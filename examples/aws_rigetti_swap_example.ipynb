{
 "cells": [
  {
   "cell_type": "markdown",
   "id": "63c7c215-f823-41a3-ae08-3e2f74ebfc08",
   "metadata": {
    "tags": []
   },
   "source": [
    "<h1 style=\"color:#4E2A84;\">AWS - Braket - Rigetti - Swap Example</h1>\n",
    "\n",
    "This notebook provides example of using swap gates to swap qubits' state with idle ancilla qubits. As a potential application of this swap operation, this example shows how to sequentially excute multiple copies of a circuit by inserting the swap gates between each copy of the circuit. The swap operations effectivley reset the qubits since the |0> state of the idle ancilla is swapped into the original qubits, allowing new copy of the circuit to execute on the original qubits.\n",
    "\n",
    "This notebook leverages the `AWS` cloud service, it uses the `Braket` development environment and targets a `Rigetti` superconducting quantum computer."
   ]
  },
  {
   "cell_type": "code",
   "execution_count": 2,
   "id": "d4c6bc02-a583-4bc1-b0cb-95add569e476",
   "metadata": {},
   "outputs": [],
   "source": [
    "# reset all notebook variables just in case\n",
    "%reset -f"
   ]
  },
  {
   "cell_type": "code",
   "execution_count": 3,
   "id": "95447c74-70d9-4c2f-b68e-aedc69ed7d19",
   "metadata": {},
   "outputs": [],
   "source": [
    "# general imports\n",
    "import matplotlib.pyplot as plt\n",
    "\n",
    "# magic word for producing visualizations in notebook\n",
    "%matplotlib inline\n",
    "import string\n",
    "\n",
    "# AWS imports: import Braket SDK modules\n",
    "from braket.circuits import Circuit, Gate, Observable\n",
    "from braket.devices import LocalSimulator\n",
    "from braket.aws import AwsDevice, AwsQuantumTask\n",
    "from braket.error_mitigation import Debias"
   ]
  },
  {
   "cell_type": "code",
   "execution_count": 4,
   "id": "7dbac2d7-cd74-46e6-8b49-6b509339b2e6",
   "metadata": {},
   "outputs": [
    {
     "name": "stdout",
     "output_type": "stream",
     "text": [
      "T  : │  0  │  1  │\n",
      "      ┌───┐       \n",
      "q0 : ─┤ H ├───●───\n",
      "      └───┘   │   \n",
      "            ┌─┴─┐ \n",
      "q1 : ───────┤ X ├─\n",
      "            └───┘ \n",
      "T  : │  0  │  1  │\n"
     ]
    }
   ],
   "source": [
    "# sample circuit\n",
    "circ = Circuit()\n",
    "\n",
    "circ.h(0)\n",
    "circ.cnot(0,1)\n",
    "\n",
    "# print circuit for visual inspection\n",
    "print(circ)"
   ]
  },
  {
   "cell_type": "code",
   "execution_count": 5,
   "id": "32865169-1cdd-4b54-a050-e1ec4c51bc97",
   "metadata": {},
   "outputs": [
    {
     "name": "stdout",
     "output_type": "stream",
     "text": [
      "Measurement counts: Counter({'11': 513, '00': 487})\n"
     ]
    }
   ],
   "source": [
    "# simulate the circuit\n",
    "device = LocalSimulator()\n",
    "result = device.run(circ, shots=1000).result()\n",
    "\n",
    "# show measurement results\n",
    "counts = result.measurement_counts\n",
    "print(\"Measurement counts:\", counts)"
   ]
  },
  {
   "cell_type": "code",
   "execution_count": 7,
   "id": "30b452ff-ffb1-4dc5-a3b5-0e54145b88fe",
   "metadata": {},
   "outputs": [
    {
     "name": "stdout",
     "output_type": "stream",
     "text": [
      "\n",
      "\n",
      "\n",
      "T  : │  0  │  1  │        2        │  3  │  4  │        5        │  6  │  7  │        8        │  9  │ 10  │\n",
      "      ┌───┐                         ┌───┐                         ┌───┐                         ┌───┐       \n",
      "q0 : ─┤ H ├───●──────x──────────────┤ H ├───●──────x──────────────┤ H ├───●──────x──────────────┤ H ├───●───\n",
      "      └───┘   │      │              └───┘   │      │              └───┘   │      │              └───┘   │   \n",
      "            ┌─┴─┐    │                    ┌─┴─┐    │                    ┌─┴─┐    │                    ┌─┴─┐ \n",
      "q1 : ───────┤ X ├────┼────────x───────────┤ X ├────┼────────x───────────┤ X ├────┼────────x───────────┤ X ├─\n",
      "            └───┘    │        │           └───┘    │        │           └───┘    │        │           └───┘ \n",
      "                     │        │                    │        │                    │        │                 \n",
      "q2 : ────────────────x────────┼────────────────────┼────────┼────────────────────┼────────┼─────────────────\n",
      "                              │                    │        │                    │        │                 \n",
      "                              │                    │        │                    │        │                 \n",
      "q3 : ─────────────────────────x────────────────────┼────────┼────────────────────┼────────┼─────────────────\n",
      "                                                   │        │                    │        │                 \n",
      "                                                   │        │                    │        │                 \n",
      "q4 : ──────────────────────────────────────────────x────────┼────────────────────┼────────┼─────────────────\n",
      "                                                            │                    │        │                 \n",
      "                                                            │                    │        │                 \n",
      "q5 : ───────────────────────────────────────────────────────x────────────────────┼────────┼─────────────────\n",
      "                                                                                 │        │                 \n",
      "                                                                                 │        │                 \n",
      "q6 : ────────────────────────────────────────────────────────────────────────────x────────┼─────────────────\n",
      "                                                                                          │                 \n",
      "                                                                                          │                 \n",
      "q7 : ─────────────────────────────────────────────────────────────────────────────────────x─────────────────\n",
      "                                                                                                            \n",
      "T  : │  0  │  1  │        2        │  3  │  4  │        5        │  6  │  7  │        8        │  9  │ 10  │\n"
     ]
    }
   ],
   "source": [
    "# set how many qubits does the input circuit uses and index of first qubit\n",
    "num_qubits = 2\n",
    "start_index = 0\n",
    "\n",
    "\n",
    "circ_with_swaps = Circuit()\n",
    "circ_with_swaps += circ\n",
    "\n",
    "curr_index = start_index\n",
    "\n",
    "num_copies = 4\n",
    "\n",
    "for i in range(num_copies-1): # subtract one because original circuit is the 1st copy, adding num_copies - 1 after that\n",
    "    for j in range(num_qubits):\n",
    "        from_qubit = start_index + j\n",
    "        to_qubit = num_qubits * (i+1) + j + curr_index\n",
    "        circ_with_swaps.swap(from_qubit,to_qubit)\n",
    "        \n",
    "    circ_with_swaps += circ\n",
    "    print()\n",
    "        \n",
    "\n",
    "print(circ_with_swaps)"
   ]
  },
  {
   "cell_type": "code",
   "execution_count": 8,
   "id": "b2bb97e6-a02c-4d97-95de-fd16be6166c3",
   "metadata": {},
   "outputs": [
    {
     "name": "stdout",
     "output_type": "stream",
     "text": [
      "Measurement counts: Counter({'00001111': 81, '11000000': 79, '00111111': 75, '00001100': 67, '00110000': 66, '11111100': 65, '11111111': 65, '11110000': 63, '00000000': 59, '00111100': 58, '11110011': 58, '11001100': 56, '11000011': 55, '00110011': 54, '00000011': 53, '11001111': 46})\n"
     ]
    }
   ],
   "source": [
    "# simulate the circuit\n",
    "device = LocalSimulator()\n",
    "result = device.run(circ_with_swaps, shots=1000).result()\n",
    "\n",
    "# show measurement results\n",
    "counts = result.measurement_counts\n",
    "print(\"Measurement counts:\", counts)"
   ]
  },
  {
   "cell_type": "code",
   "execution_count": 9,
   "id": "af03064f-8e6a-4d69-84b6-1324f21db2e8",
   "metadata": {},
   "outputs": [
    {
     "name": "stdout",
     "output_type": "stream",
     "text": [
      "{\n",
      "    \"0\": {\n",
      "        \"00\": 513,\n",
      "        \"01\": 0,\n",
      "        \"10\": 0,\n",
      "        \"11\": 487\n",
      "    },\n",
      "    \"1\": {\n",
      "        \"00\": 496,\n",
      "        \"01\": 0,\n",
      "        \"10\": 0,\n",
      "        \"11\": 504\n",
      "    },\n",
      "    \"2\": {\n",
      "        \"00\": 487,\n",
      "        \"01\": 0,\n",
      "        \"10\": 0,\n",
      "        \"11\": 513\n",
      "    },\n",
      "    \"3\": {\n",
      "        \"00\": 513,\n",
      "        \"01\": 0,\n",
      "        \"10\": 0,\n",
      "        \"11\": 487\n",
      "    }\n",
      "}\n"
     ]
    }
   ],
   "source": [
    "# import json to help pretty print dictionaries\n",
    "import json\n",
    "\n",
    "# helper function to check if nth bit is set in a string representing a binary number\n",
    "# note bit counting starts at 0, i.e. 0th bit is the least significant bit\n",
    "def is_nth_bit_set(binary_str, n):\n",
    "    # Reverse the string to access LSB at index 0\n",
    "    reversed_str = binary_str[::-1]\n",
    "\n",
    "    if n >= len(reversed_str):\n",
    "        return False  # Bit doesn't exist\n",
    "\n",
    "    return reversed_str[n] == '1'\n",
    "\n",
    "# helper function to check if bits at specific position match a pattern\n",
    "def is_bit_pattern_set(binary_str, start, end, pattern_str):\n",
    "    return binary_str[start:end] == pattern_str\n",
    "\n",
    "counts_separated = dict()\n",
    "\n",
    "for i in range(num_copies):\n",
    "    \n",
    "    temp_counts = dict()\n",
    "    \n",
    "    for j in range(2**num_qubits):\n",
    "        binary_str = bin(j)[2:].zfill(num_qubits)\n",
    "        temp_counts[binary_str] = 0\n",
    "    \n",
    "    for j in range(2**num_qubits):\n",
    "        for key in counts.keys():\n",
    "            binary_str = bin(j)[2:].zfill(num_qubits)\n",
    "            if is_bit_pattern_set(key, i*num_qubits, (i+1)*num_qubits, binary_str):\n",
    "            # print(i,j,binary_str)\n",
    "                temp_counts[binary_str] = temp_counts[binary_str] + counts[key]\n",
    "    \n",
    "    counts_separated[i] = temp_counts\n",
    "\n",
    "print(json.dumps(counts_separated, indent=4))"
   ]
  },
  {
   "cell_type": "markdown",
   "id": "fb81681f-5173-4497-96d9-65b2f7bbd8aa",
   "metadata": {
    "editable": true,
    "slideshow": {
     "slide_type": ""
    },
    "tags": []
   },
   "source": [
    "<h1 style=\"color:#4E2A84;\">Estimate qBraids Credits Needed</h1> \n",
    "\n",
    "The cost to run a circuit on a quantum computer is divided into per-task cost (effectively the cost to submit a circuit for execution) and per-shot cost (additional cost for each shot).\n",
    "\n",
    "You can view the cost by selecting $DEVICES$ on the right-hand side of the editor, then search for Rigetti Ankaa-3 (AWS) and finally selecting the pricing cell. <img src=\"images/image_pricing.png\" alt=\"View pricing\" style=\"width:300px;\"/>\n",
    "\n",
    "The current cost is $30$ qBraid Credits per-task on Ankaa-3 and then $0.09$ qBraid Credits per-task.\n",
    "\n",
    "Currently each qBraid credit is valued at $0.01$ USD. This means that $100$ credits equate to $1.00$ USD."
   ]
  },
  {
   "cell_type": "code",
   "execution_count": 10,
   "id": "6d807c56-30b3-462a-b851-351a514949b9",
   "metadata": {},
   "outputs": [],
   "source": [
    "# set number of shots\n",
    "num_shots = 1000"
   ]
  },
  {
   "cell_type": "code",
   "execution_count": 11,
   "id": "eb4f02e8-62d8-4419-b18a-1c7465445c33",
   "metadata": {},
   "outputs": [
    {
     "name": "stdout",
     "output_type": "stream",
     "text": [
      "Cost to run Bell circuit on Rigetti Ankaa-3 via AWS is:\n",
      "120.0 qBraid Credit or equivalently $1.2 USD\n"
     ]
    }
   ],
   "source": [
    "# compute cost\n",
    "perTaksCost = 30.00\n",
    "perShotCost = 0.09\n",
    "totalCost = perTaksCost+perShotCost*num_shots\n",
    "\n",
    "# print cost\n",
    "print(f'Cost to run Bell circuit on Rigetti Ankaa-3 via AWS is:')\n",
    "print(f'{totalCost} qBraid Credit or equivalently ${totalCost/100} USD')"
   ]
  },
  {
   "cell_type": "markdown",
   "id": "0bfa4f35-7a2d-4438-a234-34d671f1de4b",
   "metadata": {
    "tags": []
   },
   "source": [
    "<h1 style=\"color:#4E2A84;\">Estimate Cost Saving of Running N Copies</h1>\n",
    "\n",
    "Check the cost to execute the circuit when multiple circuits are run sequentially, and total number of shots is reduced."
   ]
  },
  {
   "cell_type": "code",
   "execution_count": 12,
   "id": "53c3ea66-558f-4189-9ffc-5b23e6163e3f",
   "metadata": {},
   "outputs": [],
   "source": [
    "# new number of shots\n",
    "import math\n",
    "\n",
    "new_num_shots = math.ceil(num_shots/num_copies)"
   ]
  },
  {
   "cell_type": "code",
   "execution_count": 13,
   "id": "a43a3423-79fc-49f4-a1b2-369e1594d53e",
   "metadata": {},
   "outputs": [
    {
     "name": "stdout",
     "output_type": "stream",
     "text": [
      "Number of copies: 4\n",
      "\n",
      "Original number of shots: 1000\n",
      "\n",
      "Reduced number of shots: 250\n",
      "\n",
      "Cost to run Bell circuit on Rigetti Ankaa-3 via AWS is:\n",
      "52.5 qBraid Credit or equivalently $0.525 USD\n",
      "\n",
      "Savings $0.6749999999999999 USD or 56.25%\n"
     ]
    }
   ],
   "source": [
    "# print number of copies being used\n",
    "print('Number of copies:',num_copies)\n",
    "print()\n",
    "\n",
    "print('Original number of shots:',num_shots)\n",
    "print()\n",
    "\n",
    "print('Reduced number of shots:',new_num_shots)\n",
    "print()\n",
    "\n",
    "# compute cost\n",
    "perTaksCost = 30.00\n",
    "perShotCost = 0.09\n",
    "totalCostWithCopies = perTaksCost+perShotCost*new_num_shots\n",
    "\n",
    "# print cost\n",
    "print(f'Cost to run Bell circuit on Rigetti Ankaa-3 via AWS is:')\n",
    "print(f'{totalCostWithCopies} qBraid Credit or equivalently ${totalCostWithCopies/100} USD')\n",
    "print()\n",
    "\n",
    "# savings\n",
    "print(f'Savings ${totalCost/100 - totalCostWithCopies/100} USD or {100*(totalCost/100 - totalCostWithCopies/100)/(totalCost/100)}%')"
   ]
  },
  {
   "cell_type": "markdown",
   "id": "57a060a0-8042-46e8-8fe3-64949ae87360",
   "metadata": {
    "tags": []
   },
   "source": [
    "<h1 style=\"color:#4E2A84;\">Submit the Circuit to Rigetti Ankaa-3 and Obtain the Results</h1>\n",
    "\n",
    "You can now submit the circuit for execution."
   ]
  },
  {
   "cell_type": "code",
   "execution_count": 14,
   "id": "8c29bbe4-0bca-48fc-aad1-11fa8b7a4af5",
   "metadata": {},
   "outputs": [
    {
     "name": "stdout",
     "output_type": "stream",
     "text": [
      "T  : │  0  │  1  │        2        │  3  │  4  │        5        │  6  │  7  │        8        │  9  │ 10  │\n",
      "      ┌───┐                         ┌───┐                         ┌───┐                         ┌───┐       \n",
      "q0 : ─┤ H ├───●──────x──────────────┤ H ├───●──────x──────────────┤ H ├───●──────x──────────────┤ H ├───●───\n",
      "      └───┘   │      │              └───┘   │      │              └───┘   │      │              └───┘   │   \n",
      "            ┌─┴─┐    │                    ┌─┴─┐    │                    ┌─┴─┐    │                    ┌─┴─┐ \n",
      "q1 : ───────┤ X ├────┼────────x───────────┤ X ├────┼────────x───────────┤ X ├────┼────────x───────────┤ X ├─\n",
      "            └───┘    │        │           └───┘    │        │           └───┘    │        │           └───┘ \n",
      "                     │        │                    │        │                    │        │                 \n",
      "q2 : ────────────────x────────┼────────────────────┼────────┼────────────────────┼────────┼─────────────────\n",
      "                              │                    │        │                    │        │                 \n",
      "                              │                    │        │                    │        │                 \n",
      "q3 : ─────────────────────────x────────────────────┼────────┼────────────────────┼────────┼─────────────────\n",
      "                                                   │        │                    │        │                 \n",
      "                                                   │        │                    │        │                 \n",
      "q4 : ──────────────────────────────────────────────x────────┼────────────────────┼────────┼─────────────────\n",
      "                                                            │                    │        │                 \n",
      "                                                            │                    │        │                 \n",
      "q5 : ───────────────────────────────────────────────────────x────────────────────┼────────┼─────────────────\n",
      "                                                                                 │        │                 \n",
      "                                                                                 │        │                 \n",
      "q6 : ────────────────────────────────────────────────────────────────────────────x────────┼─────────────────\n",
      "                                                                                          │                 \n",
      "                                                                                          │                 \n",
      "q7 : ─────────────────────────────────────────────────────────────────────────────────────x─────────────────\n",
      "                                                                                                            \n",
      "T  : │  0  │  1  │        2        │  3  │  4  │        5        │  6  │  7  │        8        │  9  │ 10  │\n"
     ]
    }
   ],
   "source": [
    "# circuit to run\n",
    "circ_to_run = circ_with_swaps\n",
    "\n",
    "# print circuit\n",
    "print(circ_to_run)"
   ]
  },
  {
   "cell_type": "code",
   "execution_count": 15,
   "id": "64d7537c-cf2f-4723-b997-195ae3dfaa11",
   "metadata": {},
   "outputs": [
    {
     "name": "stdout",
     "output_type": "stream",
     "text": [
      "Status of task: COMPLETED\n",
      "\n",
      "Task id: arn:aws:braket:us-west-1:592242689881:quantum-task/af6a3c9d-ba50-431d-b4d8-14e4dde71b79\n"
     ]
    }
   ],
   "source": [
    "# set up device\n",
    "ankaa = AwsDevice(\"arn:aws:braket:us-west-1::device/qpu/rigetti/Ankaa-3\")\n",
    "\n",
    "# run circuit\n",
    "ankaa_task = ankaa.run(circ_to_run, shots=1000, disable_qubit_rewiring=False)\n",
    "    \n",
    "# get id and status of submitted task\n",
    "ankaa_task_id = ankaa_task.id\n",
    "ankaa_status = ankaa_task.state()\n",
    "\n",
    "# print task status\n",
    "print(f'Status of task: {ankaa_status}\\n')\n",
    "\n",
    "# print task id for future reference\n",
    "print(f'Task id: {ankaa_task_id}')"
   ]
  },
  {
   "cell_type": "code",
   "execution_count": 17,
   "id": "390b35bf-108a-45b4-9bca-09f4b38074dd",
   "metadata": {},
   "outputs": [
    {
     "name": "stdout",
     "output_type": "stream",
     "text": [
      "Status of the task: COMPLETED\n",
      "COMPLETED\n",
      "{'ResponseMetadata': {'HTTPStatusCode': 200, 'HTTPHeaders': {'x-powered-by': 'Express', 'access-control-allow-origin': '*', 'access-control-allow-methods': 'GET,PUT,POST,DELETE', 'access-control-allow-headers': 'Content-Type, id-token, refresh-token, email, domain, x-custom-user-agent, api-key', 'access-control-allow-credentials': 'true', 'content-type': 'application/json; charset=utf-8', 'etag': 'W/\"45a-qpN8SQJ9nK+DLb+5GONO23HLe04\"', 'x-cloud-trace-context': '387a4de7473740016dc7ad93a2d85ba0', 'date': 'Tue, 27 May 2025 18:34:53 GMT', 'server': 'Google Frontend', 'content-length': '1114', 'via': '1.1 google', 'alt-svc': 'h3=\":443\"; ma=2592000,h3-29=\":443\"; ma=2592000'}, 'RetryAttempts': 0}, 'createdAt': datetime.datetime(2025, 5, 27, 18, 34, 15, 479000, tzinfo=tzlocal()), 'deviceArn': 'arn:aws:braket:us-west-1::device/qpu/rigetti/Ankaa-3', 'deviceParameters': '{\"braketSchemaHeader\": {\"name\": \"braket.device_schema.rigetti.rigetti_device_parameters\", \"version\": \"1\"}, \"paradigmParameters\": {\"braketSchemaHeader\": {\"name\": \"braket.device_schema.gate_model_parameters\", \"version\": \"1\"}, \"qubitCount\": 8, \"disableQubitRewiring\": false}}', 'endedAt': datetime.datetime(2025, 5, 27, 18, 34, 18, 312000, tzinfo=tzlocal()), 'outputS3Bucket': 'amazon-braket-qbraid-jobs', 'outputS3Directory': 'jakub-2eszefer-40northwestern-2eedu/af6a3c9d-ba50-431d-b4d8-14e4dde71b79', 'quantumTaskArn': 'arn:aws:braket:us-west-1:592242689881:quantum-task/af6a3c9d-ba50-431d-b4d8-14e4dde71b79', 'queueInfo': {'message': 'Task is in COMPLETED status. AmazonBraket does not show queue position for this status.', 'position': 'None', 'queue': 'QUANTUM_TASKS_QUEUE', 'queuePriority': 'Normal'}, 'shots': 1000, 'status': 'COMPLETED', 'tags': {'costEstimate': '120', 'email': 'jakub.szefer@northwestern.edu'}}\n"
     ]
    }
   ],
   "source": [
    "# get task arn\n",
    "ankaa_task_arn = 'arn:aws:braket:us-west-1:592242689881:quantum-task/af6a3c9d-ba50-431d-b4d8-14e4dde71b79'\n",
    "\n",
    "# load the quantum task\n",
    "ankaa_task_id = AwsQuantumTask(arn=ankaa_task_arn)\n",
    "\n",
    "# print status\n",
    "status = ankaa_task_id.state()\n",
    "print(\"Status of the task:\", status)\n",
    "\n",
    "print(ankaa_task_id.state())\n",
    "print(ankaa_task_id.metadata())  # Includes status, failure reason"
   ]
  },
  {
   "cell_type": "markdown",
   "id": "67df1421-9977-4ce7-8d87-6b4580361cad",
   "metadata": {
    "tags": []
   },
   "source": [
    "<h1 style=\"color:#4E2A84;\">Analyze Results</h1>\n",
    "\n"
   ]
  },
  {
   "cell_type": "code",
   "execution_count": 19,
   "id": "ce66540d-f60c-48b1-80e9-4132cadb7267",
   "metadata": {},
   "outputs": [
    {
     "name": "stdout",
     "output_type": "stream",
     "text": [
      "Measurement counts: Counter({'00001100': 50, '11111100': 50, '00000011': 47, '00111100': 42, '00000000': 40, '00110000': 37, '11000000': 36, '00001111': 35, '11110000': 35, '00111111': 35, '11000011': 34, '11001100': 34, '11111111': 31, '11001111': 31, '00110011': 30, '11110011': 22, '11000111': 13, '11100000': 11, '11100011': 11, '11101111': 11, '11000100': 10, '00110111': 10, '00111011': 10, '00011100': 9, '01001100': 9, '00111000': 9, '00000111': 9, '00011111': 8, '11101100': 8, '11110111': 8, '00101111': 8, '00101100': 7, '00110010': 7, '10111111': 7, '00000010': 6, '11010000': 6, '11010011': 6, '11011111': 6, '00010000': 6, '01001111': 6, '11110100': 6, '00010011': 6, '10010011': 5, '00110100': 5, '00100011': 5, '10111100': 5, '11111011': 5, '00001000': 5, '00111110': 5, '01110011': 4, '11000001': 4, '00100000': 4, '01000011': 4, '11000010': 4, '11100111': 4, '11110001': 4, '01000000': 4, '00111101': 4, '10110000': 3, '01100011': 3, '00010111': 3, '01111100': 3, '11101011': 3, '00100111': 3, '10000000': 3, '11111000': 3, '11111101': 3, '11111001': 3, '00000100': 3, '00101011': 3, '10001100': 3, '11011100': 2, '11100100': 2, '11110110': 2, '11111110': 2, '01110000': 2, '00001011': 2, '11001110': 2, '11101101': 2, '00001110': 2, '01010000': 2, '10000011': 2, '11001011': 2, '00000101': 2, '11000110': 2, '11101000': 2, '01111111': 2, '00000001': 2, '11110010': 2, '10110100': 2, '10101100': 2, '00110001': 2, '10110011': 2, '11001101': 2, '10001010': 1, '10100101': 1, '01110111': 1, '00000110': 1, '01010011': 1, '01100100': 1, '01111110': 1, '11010111': 1, '01000100': 1, '10100011': 1, '10001011': 1, '01001110': 1, '11001000': 1, '00010101': 1, '10101101': 1, '11001010': 1, '01010100': 1, '00011011': 1, '10100110': 1, '11011110': 1, '10010111': 1, '01000010': 1, '01000001': 1, '01011111': 1, '11010010': 1, '11101110': 1, '10011011': 1, '01001101': 1, '00101000': 1, '11011101': 1, '10111000': 1, '10111011': 1, '10110001': 1, '10110111': 1, '00001010': 1, '00011101': 1, '11010100': 1, '00001101': 1, '00101001': 1, '00100001': 1, '00110101': 1, '01000111': 1})\n"
     ]
    }
   ],
   "source": [
    "# get task arn\n",
    "ankaa_task_arn = 'arn:aws:braket:us-west-1:592242689881:quantum-task/af6a3c9d-ba50-431d-b4d8-14e4dde71b79'\n",
    "\n",
    "# load the quantum task\n",
    "ankaa_task_id = AwsQuantumTask(arn=ankaa_task_arn)\n",
    "\n",
    "# get results\n",
    "ankaa_results = ankaa_task_id.result()\n",
    "\n",
    "# get measurement counts\n",
    "ankaa_counts = ankaa_results.measurement_counts\n",
    "print(\"Measurement counts:\", ankaa_counts)"
   ]
  },
  {
   "cell_type": "code",
   "execution_count": 20,
   "id": "84533785-feb4-4afa-b799-0ecfffdf7997",
   "metadata": {},
   "outputs": [
    {
     "name": "stdout",
     "output_type": "stream",
     "text": [
      "{\n",
      "    \"0\": {\n",
      "        \"00\": 471,\n",
      "        \"01\": 51,\n",
      "        \"10\": 46,\n",
      "        \"11\": 432\n",
      "    },\n",
      "    \"1\": {\n",
      "        \"00\": 421,\n",
      "        \"01\": 72,\n",
      "        \"10\": 98,\n",
      "        \"11\": 409\n",
      "    },\n",
      "    \"2\": {\n",
      "        \"00\": 408,\n",
      "        \"01\": 98,\n",
      "        \"10\": 58,\n",
      "        \"11\": 436\n",
      "    },\n",
      "    \"3\": {\n",
      "        \"00\": 467,\n",
      "        \"01\": 40,\n",
      "        \"10\": 45,\n",
      "        \"11\": 448\n",
      "    }\n",
      "}\n"
     ]
    }
   ],
   "source": [
    "# import json to help pretty print dictionaries\n",
    "import json\n",
    "\n",
    "# helper function to check if nth bit is set in a string representing a binary number\n",
    "# note bit counting starts at 0, i.e. 0th bit is the least significant bit\n",
    "def is_nth_bit_set(binary_str, n):\n",
    "    # Reverse the string to access LSB at index 0\n",
    "    reversed_str = binary_str[::-1]\n",
    "\n",
    "    if n >= len(reversed_str):\n",
    "        return False  # Bit doesn't exist\n",
    "\n",
    "    return reversed_str[n] == '1'\n",
    "\n",
    "# helper function to check if bits at specific position match a pattern\n",
    "def is_bit_pattern_set(binary_str, start, end, pattern_str):\n",
    "    return binary_str[start:end] == pattern_str\n",
    "\n",
    "counts_separated_ankaa = dict()\n",
    "\n",
    "for i in range(num_copies):\n",
    "    \n",
    "    temp_counts = dict()\n",
    "    \n",
    "    for j in range(2**num_qubits):\n",
    "        binary_str = bin(j)[2:].zfill(num_qubits)\n",
    "        temp_counts[binary_str] = 0\n",
    "    \n",
    "    for j in range(2**num_qubits):\n",
    "        for key in ankaa_counts.keys():\n",
    "            binary_str = bin(j)[2:].zfill(num_qubits)\n",
    "            if is_bit_pattern_set(key, i*num_qubits, (i+1)*num_qubits, binary_str):\n",
    "            # print(i,j,binary_str)\n",
    "                temp_counts[binary_str] = temp_counts[binary_str] + ankaa_counts[key]\n",
    "    \n",
    "    counts_separated_ankaa[i] = temp_counts\n",
    "\n",
    "print(json.dumps(counts_separated_ankaa, indent=4))"
   ]
  }
 ],
 "metadata": {
  "kernelspec": {
   "display_name": "Python 3.11 [Braket 1.88.3]",
   "language": "python",
   "name": "python3_amazon_dbqb0r"
  },
  "language_info": {
   "codemirror_mode": {
    "name": "ipython",
    "version": 3
   },
   "file_extension": ".py",
   "mimetype": "text/x-python",
   "name": "python",
   "nbconvert_exporter": "python",
   "pygments_lexer": "ipython3",
   "version": "3.11.9"
  }
 },
 "nbformat": 4,
 "nbformat_minor": 5
}

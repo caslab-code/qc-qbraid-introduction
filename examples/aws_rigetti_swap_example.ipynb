{
 "cells": [
  {
   "cell_type": "markdown",
   "id": "63c7c215-f823-41a3-ae08-3e2f74ebfc08",
   "metadata": {
    "tags": []
   },
   "source": [
    "<h1 style=\"color:#4E2A84;\">AWS - Braket - Rigetti - Swap Example</h1>\n",
    "\n",
    "This notebook provides example of using swap gates to swap qubits' state with idle ancilla qubits. As a potential application of this swap operation, this example shows how to sequentially excute multiple copies of a circuit by inserting the swap gates between each copy of the circuit. The swap operations effectivley reset the qubits since the |0> state of the idle ancilla is swapped into the original qubits, allowing new copy of the circuit to execute on the original qubits.\n",
    "\n",
    "This notebook leverages the `AWS` cloud service, it uses the `Braket` development environment and targets a `Rigetti` superconducting quantum computer."
   ]
  },
  {
   "cell_type": "code",
   "execution_count": null,
   "id": "d4c6bc02-a583-4bc1-b0cb-95add569e476",
   "metadata": {},
   "outputs": [],
   "source": [
    "# reset all notebook variables just in case\n",
    "%reset -f"
   ]
  },
  {
   "cell_type": "code",
   "execution_count": null,
   "id": "95447c74-70d9-4c2f-b68e-aedc69ed7d19",
   "metadata": {},
   "outputs": [],
   "source": [
    "# general imports\n",
    "import matplotlib.pyplot as plt\n",
    "\n",
    "# magic word for producing visualizations in notebook\n",
    "%matplotlib inline\n",
    "import string\n",
    "\n",
    "# AWS imports: import Braket SDK modules\n",
    "from braket.circuits import Circuit, Gate, Observable\n",
    "from braket.devices import LocalSimulator\n",
    "from braket.aws import AwsDevice, AwsQuantumTask\n",
    "from braket.error_mitigation import Debias"
   ]
  },
  {
   "cell_type": "code",
   "execution_count": null,
   "id": "7dbac2d7-cd74-46e6-8b49-6b509339b2e6",
   "metadata": {},
   "outputs": [],
   "source": [
    "# sample circuit\n",
    "circ = Circuit()\n",
    "\n",
    "circ.h(0)\n",
    "circ.cnot(0,1)\n",
    "\n",
    "# print circuit for visual inspection\n",
    "print(circ)"
   ]
  },
  {
   "cell_type": "code",
   "execution_count": null,
   "id": "32865169-1cdd-4b54-a050-e1ec4c51bc97",
   "metadata": {},
   "outputs": [],
   "source": [
    "# simulate the circuit\n",
    "device = LocalSimulator()\n",
    "result = device.run(circ, shots=1000).result()\n",
    "\n",
    "# show measurement results\n",
    "counts = result.measurement_counts\n",
    "print(\"Measurement counts:\", counts)"
   ]
  },
  {
   "cell_type": "code",
   "execution_count": null,
   "id": "30b452ff-ffb1-4dc5-a3b5-0e54145b88fe",
   "metadata": {},
   "outputs": [],
   "source": [
    "# set how many qubits does the input circuit uses and index of first qubit\n",
    "num_qubits = 2\n",
    "start_index = 0\n",
    "\n",
    "\n",
    "circ_with_swaps = Circuit()\n",
    "circ_with_swaps += circ\n",
    "\n",
    "curr_index = start_index\n",
    "\n",
    "num_copies = 2\n",
    "\n",
    "for i in range(num_copies-1): # subtract one because original circuit is the 1st copy, adding num_copies - 1 after that\n",
    "    for j in range(num_qubits):\n",
    "        from_qubit = start_index + j\n",
    "        to_qubit = num_qubits * (i+1) + j + curr_index\n",
    "        circ_with_swaps.swap(from_qubit,to_qubit)\n",
    "        \n",
    "    circ_with_swaps += circ\n",
    "    print()\n",
    "        \n",
    "\n",
    "print(circ_with_swaps)"
   ]
  },
  {
   "cell_type": "code",
   "execution_count": null,
   "id": "b2bb97e6-a02c-4d97-95de-fd16be6166c3",
   "metadata": {},
   "outputs": [],
   "source": [
    "# simulate the circuit\n",
    "device = LocalSimulator()\n",
    "result = device.run(circ_with_swaps, shots=1000).result()\n",
    "\n",
    "# show measurement results\n",
    "counts = result.measurement_counts\n",
    "print(\"Measurement counts:\", counts)"
   ]
  },
  {
   "cell_type": "code",
   "execution_count": null,
   "id": "af03064f-8e6a-4d69-84b6-1324f21db2e8",
   "metadata": {},
   "outputs": [],
   "source": [
    "# import json to help pretty print dictionaries\n",
    "import json\n",
    "\n",
    "# helper function to check if nth bit is set in a string representing a binary number\n",
    "# note bit counting starts at 0, i.e. 0th bit is the least significant bit\n",
    "def is_nth_bit_set(binary_str, n):\n",
    "    # Reverse the string to access LSB at index 0\n",
    "    reversed_str = binary_str[::-1]\n",
    "\n",
    "    if n >= len(reversed_str):\n",
    "        return False  # Bit doesn't exist\n",
    "\n",
    "    return reversed_str[n] == '1'\n",
    "\n",
    "# helper function to check if bits at specific position match a pattern\n",
    "def is_bit_pattern_set(binary_str, start, end, pattern_str):\n",
    "    return binary_str[start:end] == pattern_str\n",
    "\n",
    "counts_separated = dict()\n",
    "\n",
    "for i in range(num_copies):\n",
    "    \n",
    "    temp_counts = dict()\n",
    "    \n",
    "    for j in range(2**num_qubits):\n",
    "        binary_str = bin(j)[2:].zfill(num_qubits)\n",
    "        temp_counts[binary_str] = 0\n",
    "    \n",
    "    for j in range(2**num_qubits):\n",
    "        for key in counts.keys():\n",
    "            binary_str = bin(j)[2:].zfill(num_qubits)\n",
    "            if is_bit_pattern_set(key, i*num_qubits, (i+1)*num_qubits, binary_str):\n",
    "            # print(i,j,binary_str)\n",
    "                temp_counts[binary_str] = temp_counts[binary_str] + counts[key]\n",
    "    \n",
    "    counts_separated[i] = temp_counts\n",
    "\n",
    "print(json.dumps(counts_separated, indent=4))"
   ]
  },
  {
   "cell_type": "markdown",
   "id": "fb81681f-5173-4497-96d9-65b2f7bbd8aa",
   "metadata": {
    "editable": true,
    "slideshow": {
     "slide_type": ""
    },
    "tags": []
   },
   "source": [
    "<h1 style=\"color:#4E2A84;\">Estimate qBraids Credits Needed</h1> \n",
    "\n",
    "The cost to run a circuit on a quantum computer is divided into per-task cost (effectively the cost to submit a circuit for execution) and per-shot cost (additional cost for each shot).\n",
    "\n",
    "You can view the cost by selecting $DEVICES$ on the right-hand side of the editor, then search for Rigetti Ankaa-3 (AWS) and finally selecting the pricing cell. <img src=\"images/image_pricing.png\" alt=\"View pricing\" style=\"width:300px;\"/>\n",
    "\n",
    "The current cost is $30$ qBraid Credits per-task on Ankaa-3 and then $0.09$ qBraid Credits per-task.\n",
    "\n",
    "Currently each qBraid credit is valued at $0.01$ USD. This means that $100$ credits equate to $1.00$ USD."
   ]
  },
  {
   "cell_type": "code",
   "execution_count": null,
   "id": "6d807c56-30b3-462a-b851-351a514949b9",
   "metadata": {},
   "outputs": [],
   "source": [
    "# set number of shots\n",
    "num_shots = 1000"
   ]
  },
  {
   "cell_type": "code",
   "execution_count": null,
   "id": "eb4f02e8-62d8-4419-b18a-1c7465445c33",
   "metadata": {},
   "outputs": [],
   "source": [
    "# compute cost\n",
    "perTaksCost = 30.00\n",
    "perShotCost = 0.09\n",
    "totalCost = perTaksCost+perShotCost*num_shots\n",
    "\n",
    "# print cost\n",
    "print(f'Cost to run Bell circuit on Rigetti Ankaa-3 via AWS is:')\n",
    "print(f'{totalCost} qBraid Credit or equivalently ${totalCost/100} USD')"
   ]
  },
  {
   "cell_type": "markdown",
   "id": "0bfa4f35-7a2d-4438-a234-34d671f1de4b",
   "metadata": {
    "tags": []
   },
   "source": [
    "<h1 style=\"color:#4E2A84;\">Estimate Cost Saving of Running N Copies</h1>\n",
    "\n",
    "Check the cost to execute the circuit when multiple circuits are run sequentially, and total number of shots is reduced."
   ]
  },
  {
   "cell_type": "code",
   "execution_count": null,
   "id": "53c3ea66-558f-4189-9ffc-5b23e6163e3f",
   "metadata": {},
   "outputs": [],
   "source": [
    "# new number of shots\n",
    "import math\n",
    "\n",
    "new_num_shots = math.ceil(num_shots/num_copies)"
   ]
  },
  {
   "cell_type": "code",
   "execution_count": null,
   "id": "a43a3423-79fc-49f4-a1b2-369e1594d53e",
   "metadata": {},
   "outputs": [],
   "source": [
    "# print number of copies being used\n",
    "print('Number of copies:',num_copies)\n",
    "print()\n",
    "\n",
    "print('Original number of shots:',num_shots)\n",
    "print()\n",
    "\n",
    "print('Reduced number of shots:',new_num_shots)\n",
    "print()\n",
    "\n",
    "# compute cost\n",
    "perTaksCost = 30.00\n",
    "perShotCost = 0.09\n",
    "totalCostWithCopies = perTaksCost+perShotCost*new_num_shots\n",
    "\n",
    "# print cost\n",
    "print(f'Cost to run Bell circuit on Rigetti Ankaa-3 via AWS is:')\n",
    "print(f'{totalCostWithCopies} qBraid Credit or equivalently ${totalCostWithCopies/100} USD')\n",
    "print()\n",
    "\n",
    "# savings\n",
    "print(f'Savings ${totalCost/100 - totalCostWithCopies/100} USD or {100*(totalCost/100 - totalCostWithCopies/100)/(totalCost/100)}%')"
   ]
  },
  {
   "cell_type": "markdown",
   "id": "57a060a0-8042-46e8-8fe3-64949ae87360",
   "metadata": {
    "tags": []
   },
   "source": [
    "<h1 style=\"color:#4E2A84;\">Submit the Circuit to Rigetti Ankaa-3 and Obtain the Results</h1>\n",
    "\n",
    "You can now submit the circuit for execution."
   ]
  },
  {
   "cell_type": "code",
   "execution_count": null,
   "id": "8c29bbe4-0bca-48fc-aad1-11fa8b7a4af5",
   "metadata": {},
   "outputs": [],
   "source": [
    "# circuit to run\n",
    "circ_to_run = circ_with_swaps\n",
    "\n",
    "# print circuit\n",
    "print(circ_to_run)"
   ]
  },
  {
   "cell_type": "code",
   "execution_count": null,
   "id": "64d7537c-cf2f-4723-b997-195ae3dfaa11",
   "metadata": {},
   "outputs": [],
   "source": [
    "# set up device\n",
    "ankaa = AwsDevice(\"arn:aws:braket:us-west-1::device/qpu/rigetti/Ankaa-3\")\n",
    "\n",
    "# run circuit\n",
    "ankaa_task = ankaa.run(circ_to_run, shots=1000, disable_qubit_rewiring=False)\n",
    "    \n",
    "# get id and status of submitted task\n",
    "ankaa_task_id = ankaa_task.id\n",
    "ankaa_status = ankaa_task.state()\n",
    "\n",
    "# print task status\n",
    "print(f'Status of task: {ankaa_status}\\n')\n",
    "\n",
    "# print task id for future reference\n",
    "print(f'Task id: {ankaa_task_id}')"
   ]
  },
  {
   "cell_type": "code",
   "execution_count": null,
   "id": "390b35bf-108a-45b4-9bca-09f4b38074dd",
   "metadata": {},
   "outputs": [],
   "source": [
    "# get task arn\n",
    "ankaa_task_arn = ''\n",
    "\n",
    "# load the quantum task\n",
    "ankaa_task_id = AwsQuantumTask(arn=ankaa_task_arn)\n",
    "\n",
    "# print status\n",
    "status = ankaa_task_id.state()\n",
    "print(\"Status of the task:\", status)\n",
    "\n",
    "print(ankaa_task_id.state())\n",
    "print(ankaa_task_id.metadata())  # Includes status, failure reason"
   ]
  },
  {
   "cell_type": "markdown",
   "id": "67df1421-9977-4ce7-8d87-6b4580361cad",
   "metadata": {
    "tags": []
   },
   "source": [
    "<h1 style=\"color:#4E2A84;\">Analyze Results</h1>\n",
    "\n"
   ]
  },
  {
   "cell_type": "code",
   "execution_count": null,
   "id": "ce66540d-f60c-48b1-80e9-4132cadb7267",
   "metadata": {},
   "outputs": [],
   "source": [
    "# get task arn\n",
    "ankaa_task_arn = ''\n",
    "\n",
    "# load the quantum task\n",
    "ankaa_task_id = AwsQuantumTask(arn=ankaa_task_arn)\n",
    "\n",
    "# get results\n",
    "ankaa_results = ankaa_task_id.result()\n",
    "\n",
    "# get measurement counts\n",
    "ankaa_counts = ankaa_results.measurement_counts\n",
    "print(\"Measurement counts:\", ankaa_counts)"
   ]
  },
  {
   "cell_type": "code",
   "execution_count": null,
   "id": "84533785-feb4-4afa-b799-0ecfffdf7997",
   "metadata": {},
   "outputs": [],
   "source": [
    "# import json to help pretty print dictionaries\n",
    "import json\n",
    "\n",
    "# helper function to check if nth bit is set in a string representing a binary number\n",
    "# note bit counting starts at 0, i.e. 0th bit is the least significant bit\n",
    "def is_nth_bit_set(binary_str, n):\n",
    "    # Reverse the string to access LSB at index 0\n",
    "    reversed_str = binary_str[::-1]\n",
    "\n",
    "    if n >= len(reversed_str):\n",
    "        return False  # Bit doesn't exist\n",
    "\n",
    "    return reversed_str[n] == '1'\n",
    "\n",
    "# helper function to check if bits at specific position match a pattern\n",
    "def is_bit_pattern_set(binary_str, start, end, pattern_str):\n",
    "    return binary_str[start:end] == pattern_str\n",
    "\n",
    "counts_separated_ankaa = dict()\n",
    "\n",
    "for i in range(num_copies):\n",
    "    \n",
    "    temp_counts = dict()\n",
    "    \n",
    "    for j in range(2**num_qubits):\n",
    "        binary_str = bin(j)[2:].zfill(num_qubits)\n",
    "        temp_counts[binary_str] = 0\n",
    "    \n",
    "    for j in range(2**num_qubits):\n",
    "        for key in ankaa_counts.keys():\n",
    "            binary_str = bin(j)[2:].zfill(num_qubits)\n",
    "            if is_bit_pattern_set(key, i*num_qubits, (i+1)*num_qubits, binary_str):\n",
    "            # print(i,j,binary_str)\n",
    "                temp_counts[binary_str] = temp_counts[binary_str] + ankaa_counts[key]\n",
    "    \n",
    "    counts_separated_ankaa[i] = temp_counts\n",
    "\n",
    "print(json.dumps(counts_separated_ankaa, indent=4))"
   ]
  }
 ],
 "metadata": {
  "kernelspec": {
   "display_name": "Python 3.11 [Braket 1.88.3]",
   "language": "python",
   "name": "python3_amazon_dbqb0r"
  },
  "language_info": {
   "codemirror_mode": {
    "name": "ipython",
    "version": 3
   },
   "file_extension": ".py",
   "mimetype": "text/x-python",
   "name": "python",
   "nbconvert_exporter": "python",
   "pygments_lexer": "ipython3",
   "version": "3.11.9"
  }
 },
 "nbformat": 4,
 "nbformat_minor": 5
}

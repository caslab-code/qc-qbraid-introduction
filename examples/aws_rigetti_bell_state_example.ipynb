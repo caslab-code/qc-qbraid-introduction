{
 "cells": [
  {
   "cell_type": "markdown",
   "id": "5a0b72a1-8400-4989-bc98-f198364931ba",
   "metadata": {},
   "source": [
    "<h1 style=\"color:#4E2A84;\">Setup Amazon Braket Environment</h1> \n",
    "\n",
    "Make sure that you have installed the latest Amazon Braket environment in qBraid Lab ([installation instructions](https://docs.qbraid.com/lab/user-guide/environments#install-environment)) and have selected the `Python [Braket vX.X]` kernel. (You can switch kernels by going to the Menu Bar → Kernel → Change Kernel). \n",
    "\n",
    "You can vew the kernel currently selected in the top-right of the editor window: <img src=\"images/image_select_kernel.png\" alt=\"Kernel selection\" style=\"width:200px;\"/>"
   ]
  },
  {
   "cell_type": "markdown",
   "id": "1d10ac88-64d2-4f13-a06e-e2fd71b061c3",
   "metadata": {},
   "source": [
    "<h1 style=\"color:#4E2A84;\">General Setup for Coding</h1> \n",
    "\n",
    "Before writing any code, you need to import the appropriate libraries. This notebook uses Amazon Braket enviroment, which is initialized with the below imports."
   ]
  },
  {
   "cell_type": "code",
   "execution_count": null,
   "id": "b2fccf9d-e0d1-4d1d-82d9-290a3bede5f8",
   "metadata": {},
   "outputs": [],
   "source": [
    "# general imports\n",
    "import matplotlib.pyplot as plt\n",
    "\n",
    "# magic word for producing visualizations in notebook\n",
    "%matplotlib inline\n",
    "import string\n",
    "\n",
    "# AWS imports: Import Braket SDK modules\n",
    "from braket.circuits import Circuit, Gate, Observable\n",
    "from braket.devices import LocalSimulator\n",
    "from braket.aws import AwsDevice, AwsQuantumTask"
   ]
  },
  {
   "cell_type": "markdown",
   "id": "d1157864-9bbf-4c52-a7d3-b7fe8866d9d8",
   "metadata": {},
   "source": [
    "<h1 style=\"color:#4E2A84;\">Code for Bell State Circuit</h1>\n",
    "\n",
    "Now you can write a simple Bell State circuit which consists of an $H$ gate followed by $CNOT$ gate. Below code creates a new quantum circuit object named bell using the $Circuit()$ constructor. Subsequent lines of code add the $H$ gate (on qubit $0$) and $CNOT$ gate (between qubits $0$ and $1$, the first qubit is the control qubit, the second qubit is the target qubit). Finally, $print()$ command is called to print/draw the circuit for easy visual observation.\n"
   ]
  },
  {
   "cell_type": "code",
   "execution_count": 3,
   "id": "e88a551c-31bc-4fa7-a2ce-c087f392000d",
   "metadata": {
    "pycharm": {
     "name": "#%%\n"
    },
    "tags": []
   },
   "outputs": [],
   "source": [
    "# define circuit\n",
    "bell = Circuit()"
   ]
  },
  {
   "cell_type": "code",
   "execution_count": null,
   "id": "a1526c95-aee4-43df-bb5b-cab110f2873a",
   "metadata": {},
   "outputs": [],
   "source": [
    "# add gates to the circuit to define its operation\n",
    "bell.h(0)\n",
    "bell.cnot(0, 1)"
   ]
  },
  {
   "cell_type": "code",
   "execution_count": 4,
   "id": "cbd67190-e1ec-4dce-9c5f-7967d4ae8ad5",
   "metadata": {
    "tags": []
   },
   "outputs": [
    {
     "name": "stdout",
     "output_type": "stream",
     "text": [
      "T  : │  0  │  1  │\n",
      "      ┌───┐       \n",
      "q0 : ─┤ H ├───●───\n",
      "      └───┘   │   \n",
      "            ┌─┴─┐ \n",
      "q1 : ───────┤ X ├─\n",
      "            └───┘ \n",
      "T  : │  0  │  1  │\n"
     ]
    }
   ],
   "source": [
    "# print circuit\n",
    "print(bell)"
   ]
  },
  {
   "cell_type": "markdown",
   "id": "e014e494-f5f2-493b-be85-4cd2fc915239",
   "metadata": {},
   "source": [
    "<h1 style=\"color:#4E2A84;\">Execute the Circuit in a Simulator</h1> \n",
    "\n",
    "Now you can execute the circuit using an exact state-vector simulator running on a classical CPU. This local simulator is the preferred choice for fast experiments with low to intermediate qubit numbers ($N<20-25$) and essentially unlimited circuit depth.\n",
    "\n",
    "A $device$ is the quantum computer backend where you want to execute your circuit. A device can also be a simulator. In this case the state-vector simulator is called $LocalSimulator()$ and is provided as part of the Amazon Braket environment.\n",
    "\n",
    "$device.run()$ is used to execute a circut. You can specify the number of $shots$, or how many times the same circuit will be run. Each shot generates a measurement resuts, and all the results form all the shots are combined together to generate the output probabilities. Currently you need on the order of about $1000$ shots to get enough data."
   ]
  },
  {
   "cell_type": "code",
   "execution_count": 5,
   "id": "b3da93c5-e2f9-4022-9721-d14ad007dd06",
   "metadata": {
    "pycharm": {
     "name": "#%%\n"
    },
    "tags": []
   },
   "outputs": [],
   "source": [
    "# set up device: Local Simulator\n",
    "device = LocalSimulator()"
   ]
  },
  {
   "cell_type": "code",
   "execution_count": null,
   "id": "a0fd34a3-b0c5-47c3-bdc0-009ce47b58e2",
   "metadata": {
    "tags": []
   },
   "outputs": [],
   "source": [
    "# run circuit (execute single TASK)\n",
    "bell_circuit_shots = 1000\n",
    "result = device.run(bell, shots=bell_circuit_shots).result()"
   ]
  },
  {
   "cell_type": "code",
   "execution_count": null,
   "id": "67227648-3d8e-4740-8212-d0e43577b837",
   "metadata": {
    "tags": []
   },
   "outputs": [],
   "source": [
    "# get measurement shots\n",
    "counts = result.measurement_counts"
   ]
  },
  {
   "cell_type": "code",
   "execution_count": null,
   "id": "a79a9d0c-9a78-4dd9-8a38-88c8ae9465b9",
   "metadata": {
    "tags": []
   },
   "outputs": [
    {
     "name": "stdout",
     "output_type": "stream",
     "text": [
      "Counter({'11': 512, '00': 488})\n"
     ]
    }
   ],
   "source": [
    "# print counts\n",
    "print(counts)"
   ]
  },
  {
   "cell_type": "code",
   "execution_count": 7,
   "id": "80092e97-8b6a-4f96-b49d-8f77419cffb7",
   "metadata": {
    "scrolled": true,
    "tags": []
   },
   "outputs": [
    {
     "data": {
      "text/plain": [
       "Text(0, 0.5, 'counts')"
      ]
     },
     "execution_count": 7,
     "metadata": {},
     "output_type": "execute_result"
    },
    {
     "data": {
      "image/png": "[encoded data removed]",
      "text/plain": [
       "<Figure size 640x480 with 1 Axes>"
      ]
     },
     "metadata": {},
     "output_type": "display_data"
    }
   ],
   "source": [
    "# plot the counts\n",
    "plt.bar(counts.keys(), counts.values())\n",
    "plt.xlabel(\"bitstrings\")\n",
    "plt.ylabel(\"counts\")"
   ]
  },
  {
   "cell_type": "markdown",
   "id": "86fada0a-c5f0-4dcf-a6bd-b9d941674ae2",
   "metadata": {},
   "source": [
    "<h1 style=\"color:#4E2A84;\">Interpert the Results</h1>\n",
    "\n",
    "You should see a bar graph showing the outputs generated by the circuit. Since the Bell circuit uses 2 qubits, there are 4 possible outputs: $00$, $01$, $10$, and $11$. However, by definition a bell state should generate an entangled state and only $00$ or $11$ outputs should be possible (the qubits are entangled and they always produce the same output, either both $0$ or both $1$. As the result, the bar graph should have only two bars, one for $11$ state and one for $00$ state. Each of the two possible outputs should be generated with equal probability so you should get about $50\\%$ of $11$ and $50\\%$ of $00$. Due to simulated noise and uncertaintity, the actual outputs may vary slightly. Youw should also see the output counts on the y-axis. Since the circuit was exected $1000$ times the output counts should be about $500$ for $11$ state and the other $500$ for $00$ state."
   ]
  },
  {
   "cell_type": "markdown",
   "id": "19db918c-3b6c-4e29-946a-460b0cec7aa1",
   "metadata": {},
   "source": [
    "<h1 style=\"color:#4E2A84;\">Get Ready to Execute Circuit on Real Quantum Computer</h1>\n",
    "\n",
    "Now you are ready to execute the circuit on a real quantum computer. We will use Amazon Web Servies (AWS) to submit the circuit to be executed on the Rigetti Ankaa-3 quantum computer."
   ]
  },
  {
   "cell_type": "markdown",
   "id": "dfc2bc9c-ec51-475b-a316-eb1bc0907d79",
   "metadata": {
    "editable": true,
    "slideshow": {
     "slide_type": ""
    },
    "tags": []
   },
   "source": [
    "<h1 style=\"color:#4E2A84;\">Estimate qBraids Credits Needed</h1> \n",
    "\n",
    "The cost to run a circuit on a quantum computer is divided into per-task cost (effectively the cost to submit a circuit for execution) and per-shot cost (additional cost for each shot).\n",
    "\n",
    "You can view the cost by selecting $DEVICES$ on the right-hand side of the editor, then search for Rigetti Ankaa-3 (AWS) and finally selecting the pricing cell. <img src=\"images/image_pricing.png\" alt=\"View pricing\" style=\"width:300px;\"/>\n",
    "\n",
    "The current cost is $30$ qBraid Credits per-task on Ankaa-3 and then $0.09$ qBraid Credits per-task.\n",
    "\n",
    "Currently each qBraid credit is valued at $0.01$ USD. This means that $100$ credits equate to $1.00$ USD."
   ]
  },
  {
   "cell_type": "code",
   "execution_count": 4,
   "id": "d8083bd5-d9e7-49ec-8a4c-43becdd20c03",
   "metadata": {
    "editable": true,
    "slideshow": {
     "slide_type": ""
    },
    "tags": []
   },
   "outputs": [],
   "source": [
    "# compute cost\n",
    "perTaksCost = 30.00\n",
    "perShotCost = 0.09\n",
    "totalCost = perTaksCost+perShotCost*bell_circuit_shots\n",
    "totalCostDollars = totalCost/100"
   ]
  },
  {
   "cell_type": "code",
   "execution_count": 5,
   "id": "c50fca96-5aa2-4c91-8f80-346bc9f61a1a",
   "metadata": {},
   "outputs": [
    {
     "name": "stdout",
     "output_type": "stream",
     "text": [
      "Cost to run Bell circuit on Rigetti Ankaa-3 via AWS is:\n",
      "120.0 qBraid Credit or equivalently $1.2 USD\n"
     ]
    }
   ],
   "source": [
    "# print cost\n",
    "print(f'Cost to run Bell circuit on Rigetti Ankaa-3 via AWS is:')\n",
    "print(f'{totalCost} qBraid Credit or equivalently ${totalCostDollars} USD')"
   ]
  },
  {
   "cell_type": "markdown",
   "id": "9443680e-abee-424f-bbeb-12178a25e8c5",
   "metadata": {},
   "source": [
    "<h1 style=\"color:#4E2A84;\">Verity Cost Estimate</h1> \n",
    "\n",
    "qBraid provides tools to estimate the credit cost of quantum jobs. You will need to provide the name of the quantum computer so that the proper cost can be computed."
   ]
  },
  {
   "cell_type": "code",
   "execution_count": 6,
   "id": "3800a29e-83b5-41e0-b51a-6c80331eb07b",
   "metadata": {},
   "outputs": [
    {
     "ename": "ImportError",
     "evalue": "cannot import name 'Device' from 'qbraid.runtime.native.device' (/home/jovyan/.qbraid/environments/qbraid_sdk_9j9sjy/pyenv/lib/python3.11/site-packages/qbraid/runtime/native/device.py)",
     "output_type": "error",
     "traceback": [
      "\u001b[0;31m---------------------------------------------------------------------------\u001b[0m",
      "\u001b[0;31mImportError\u001b[0m                               Traceback (most recent call last)",
      "Cell \u001b[0;32mIn[6], line 2\u001b[0m\n\u001b[1;32m      1\u001b[0m \u001b[38;5;66;03m# qBraid imports\u001b[39;00m\n\u001b[0;32m----> 2\u001b[0m \u001b[38;5;28;01mfrom\u001b[39;00m\u001b[38;5;250m \u001b[39m\u001b[38;5;21;01mqbraid\u001b[39;00m\u001b[38;5;21;01m.\u001b[39;00m\u001b[38;5;21;01mruntime\u001b[39;00m\u001b[38;5;21;01m.\u001b[39;00m\u001b[38;5;21;01mnative\u001b[39;00m\u001b[38;5;21;01m.\u001b[39;00m\u001b[38;5;21;01mdevice\u001b[39;00m\u001b[38;5;250m \u001b[39m\u001b[38;5;28;01mimport\u001b[39;00m Device\n\u001b[1;32m      4\u001b[0m job \u001b[38;5;241m=\u001b[39m device\u001b[38;5;241m.\u001b[39mrun(qasm, name\u001b[38;5;241m=\u001b[39m\u001b[38;5;124m\"\u001b[39m\u001b[38;5;124mGHZ (Preflight)\u001b[39m\u001b[38;5;124m\"\u001b[39m, shots\u001b[38;5;241m=\u001b[39m\u001b[38;5;241m100\u001b[39m, preflight\u001b[38;5;241m=\u001b[39m\u001b[38;5;28;01mTrue\u001b[39;00m)\n\u001b[1;32m      5\u001b[0m job\u001b[38;5;241m.\u001b[39mwait_for_final_state()\n",
      "\u001b[0;31mImportError\u001b[0m: cannot import name 'Device' from 'qbraid.runtime.native.device' (/home/jovyan/.qbraid/environments/qbraid_sdk_9j9sjy/pyenv/lib/python3.11/site-packages/qbraid/runtime/native/device.py)"
     ]
    }
   ],
   "source": [
    "# qBraid imports\n",
    "from qbraid.runtime.native.device import Device\n",
    "\n",
    "# set device\n",
    "device = AwsDevice(\"arn:aws:braket:us-west-1::device/qpu/rigetti/Ankaa-3\")\n",
    "\n",
    "# get cost data\n",
    "job = device.run(qasm, name=bell, shots=bell_circuit_shots, preflight=True)\n",
    "job.wait_for_final_state()\n",
    "metadata = job.metadata()\n",
    "cost_usd = metadata[\"cost_usd\"]\n",
    "print(f'Cost: ${cost_usd} USD')\n",
    "\n",
    "\n",
    "# specify the device and esimate cost of the circuit\n",
    "#device = Device(\"rigetti\")\n",
    "##estimated_credits = device.estimate_cost(shots=bell_circuit_shots)\n",
    "#print(f\"Estimated cost: {estimated_credits} qBraid Credits\")"
   ]
  },
  {
   "cell_type": "markdown",
   "id": "3958703a-097e-49d2-ac90-45ee797b1a04",
   "metadata": {
    "editable": true,
    "slideshow": {
     "slide_type": ""
    },
    "tags": []
   },
   "source": [
    "<h1 style=\"color:#4E2A84;\">Request qBraid Credits</h1> \n",
    "\n",
    "If you do not have AWS credentials for submitting your quantum jobs, you will need qBraid Credits to run the code on actual quantum computer. Please request qBraid Credits from the instructor. After you have qBraid Credits then you can proceed with the following code."
   ]
  },
  {
   "cell_type": "markdown",
   "id": "52736ff9-9c45-4945-9bf4-765c5c4e33f3",
   "metadata": {},
   "source": [
    "<h1 style=\"color:#4E2A84;\">Subimt Circuit for Execution on Quantum Computer</h1> \n",
    "\n",
    "Now you can submit the circuit for execution. You will submit the circuit to execute on the target quantum computer. The circuit will be queued by AWS, you will need to periodically check the status of the circuit to see when it has executed and then results will be available."
   ]
  },
  {
   "cell_type": "code",
   "execution_count": null,
   "id": "43130ca3-b4a9-4edd-a812-48e1e4f7d871",
   "metadata": {},
   "outputs": [],
   "source": [
    "# set up device\n",
    "ankaa = AwsDevice(\"arn:aws:braket:us-west-1::device/qpu/rigetti/Ankaa-3\")\n",
    "\n",
    "# run circuit\n",
    "ankaa_task = ankaa.run(bell, shots=bell_circuit_shots)\n",
    "\n",
    "# get id and status of submitted task\n",
    "ankaa_task_id = ankaa_task.id\n",
    "ankaa_status = ankaa_task.state()\n",
    "\n",
    "# print('ID of task:', ankaa_task)\n",
    "print(\"Status of task:\", ankaa_status)"
   ]
  },
  {
   "cell_type": "markdown",
   "id": "21ef49af-040a-4093-aceb-f9fb1f81f184",
   "metadata": {
    "editable": true,
    "slideshow": {
     "slide_type": ""
    },
    "tags": []
   },
   "source": [
    "<h1 style=\"color:#4E2A84;\">Wait for Circuit to Execute</h1> \n",
    "\n",
    "The task is submitted and you can regularly (or irregularly) check the status of this task by executing the following code."
   ]
  },
  {
   "cell_type": "code",
   "execution_count": null,
   "id": "f252b84c-adc0-4b91-ad3d-c68c26203ada",
   "metadata": {
    "editable": true,
    "slideshow": {
     "slide_type": ""
    },
    "tags": []
   },
   "outputs": [],
   "source": [
    "# print status\n",
    "status = ankaa_task_id.state()\n",
    "print(\"Status of (reconstructed) task:\", status)"
   ]
  },
  {
   "cell_type": "markdown",
   "id": "32d479ef-528c-458e-bda0-50a2518b994b",
   "metadata": {
    "editable": true,
    "slideshow": {
     "slide_type": ""
    },
    "tags": []
   },
   "source": [
    "<h1 style=\"color:#4E2A84;\">Get Results of the Computation</h1> \n",
    "\n",
    "Once the circuit has executed, you can use the unique task ID to retrieve the results."
   ]
  },
  {
   "cell_type": "code",
   "execution_count": null,
   "id": "2d7f2fd1-e3e0-48f9-9d85-f6695c98a50f",
   "metadata": {
    "editable": true,
    "slideshow": {
     "slide_type": ""
    },
    "tags": []
   },
   "outputs": [],
   "source": [
    "# create task load object\n",
    "task_load = AwsQuantumTask(arn=lucy_task_id)\n",
    "\n",
    "# get results\n",
    "lucy_results = task_load.result()\n",
    "# print results\n",
    "print(lucy_results)\n",
    "\n",
    "# get all metadata of submitted task\n",
    "metadata = task_load.metadata()\n",
    "# print some metadata\n",
    "shots = metadata[\"shots\"]\n",
    "machine = metadata[\"deviceArn\"]\n",
    "print(\"{} shots taken on machine {}.\\n\".format(shots, machine))\n",
    "\n",
    "# get the compiled circuit\n",
    "print(\n",
    "   \"The compiled circuit is:\\n\",\n",
    "    lucy_results.additional_metadata.oqcMetadata.compiledProgram,\n",
    ")\n",
    "\n",
    "# get measurement counts\n",
    "lucy_counts = lucy_results.measurement_counts\n",
    "print(\"Measurement counts:\", lucy_counts)\n",
    "\n",
    "# plot results: see effects of noise\n",
    "plt.bar(lucy_counts.keys(), lucy_counts.values())\n",
    "plt.xlabel(\"bitstrings\")\n",
    "plt.ylabel(\"counts\")\n",
    "plt.tight_layout()"
   ]
  },
  {
   "cell_type": "markdown",
   "id": "c663323d-117d-45f1-a65b-837ff3de847c",
   "metadata": {},
   "source": [
    "<h1 style=\"color:#4E2A84;\">That's All Folks!</h1>\n",
    "\n",
    "Congratualtions, you have now simulated Bell State circuit, estimated its cost to run on real quantu computer, submitted the circuit for execution, waited for results and graphed the final data from the real device."
   ]
  }
 ],
 "metadata": {
  "kernelspec": {
   "display_name": "Python 3 [qBraid]",
   "language": "python",
   "name": "python3_qbraid_sdk_9j9sjy"
  },
  "language_info": {
   "codemirror_mode": {
    "name": "ipython",
    "version": 3
   },
   "file_extension": ".py",
   "mimetype": "text/x-python",
   "name": "python",
   "nbconvert_exporter": "python",
   "pygments_lexer": "ipython3",
   "version": "3.11.9"
  }
 },
 "nbformat": 4,
 "nbformat_minor": 5
}

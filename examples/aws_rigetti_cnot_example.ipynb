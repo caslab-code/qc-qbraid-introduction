{
 "cells": [
  {
   "cell_type": "markdown",
   "id": "dd9a6557-6b84-4fce-ba0f-c05ab9b42f74",
   "metadata": {
    "tags": []
   },
   "source": [
    "<h1 style=\"color:#4E2A84;\">AWS - Braket - Rigetti - CNOT Crosstalk Example</h1>\n",
    "\n",
    "This notebook provides example of creating a circuit with many $CNOT$ gates, assigning them to specific qubits and executing on the Rigetti Ankaa-3 quantum computer. The example circuit contained herein which many $CNOT$ gates does no useful computation, but rather can be used as example of a circuit that generates noise or crosstalk that affects other qubits on the quantum computer. Variants of circuits with many $CNOT$ gates have been used in research papers to demonstrate crosstalk attacks between two circuits executing at the same time on a quantum computer. To demonstrate this, the example circuit is augmented with one so-called victim qubit that his selected to be adjacent to the circuit with many $CNOT$ gates. The execution of the $CNOT$ gates causes crosstalk that is observed by analyzing how the victim's stat that should be in $\\ket{0}$ changes to $\\ket{1}$.\n",
    "\n",
    "This notebook leverages the `AWS` cloud service, it uses the `Braket` development environment and targets a `Rigetti` superconducting quantum computer."
   ]
  },
  {
   "cell_type": "code",
   "execution_count": 1,
   "id": "045a5718-e164-4e4b-a85d-b51d622336f0",
   "metadata": {},
   "outputs": [],
   "source": [
    "# reset all notebook variables just in case\n",
    "%reset -f"
   ]
  },
  {
   "cell_type": "markdown",
   "id": "d6352cbe-74a1-466b-b65a-16934c475393",
   "metadata": {
    "jp-MarkdownHeadingCollapsed": true
   },
   "source": [
    "<h1 style=\"color:#4E2A84;\">Setup Amazon Braket Environment</h1> \n",
    "\n",
    "To begin, make sure that you have installed the latest Amazon Braket environment in qBraid Lab ([installation instructions](https://docs.qbraid.com/lab/user-guide/environments#install-environment)) and have selected the `Python [Braket vX.X]` kernel. (You can switch kernels by going to the Menu Bar → Kernel → Change Kernel). \n",
    "\n",
    "You can vew the kernel currently selected in the top-right of the editor window: <img src=\"images/image_select_kernel.png\" alt=\"Kernel selection\" style=\"width:200px;\"/>"
   ]
  },
  {
   "cell_type": "markdown",
   "id": "33d1088d-74b7-4498-b556-a4e4fc405fb9",
   "metadata": {},
   "source": [
    "<h1 style=\"color:#4E2A84;\">General Setup for Coding</h1> \n",
    "\n",
    "Now, you need to import the appropriate libraries. This notebook uses Braket development enviroment, which is initialized with the below imports."
   ]
  },
  {
   "cell_type": "code",
   "execution_count": 2,
   "id": "912d2ba4-05db-430f-89c0-2ce4eb8b2bf0",
   "metadata": {
    "tags": []
   },
   "outputs": [],
   "source": [
    "from braket.tracking import Tracker\n",
    "tracker = Tracker().start()\n",
    "\n",
    "# general imports\n",
    "import matplotlib.pyplot as plt\n",
    "\n",
    "%matplotlib inline\n",
    "\n",
    "# AWS imports: Import Braket SDK modules\n",
    "from braket.circuits import Circuit\n",
    "from braket.devices import LocalSimulator\n",
    "from braket.aws import AwsDevice, AwsQuantumTask"
   ]
  },
  {
   "cell_type": "markdown",
   "id": "218450a6-8859-4b41-a6ae-4e53ff371d42",
   "metadata": {},
   "source": [
    "<h1 style=\"color:#4E2A84;\">Partial Code for Circuit with Many CNOT Gates</h1>\n",
    "\n",
    "Below cells specify a circuit with many $CNOT$ gates. Note the qubits used by the $CNOT$ gates have specific indices. The indices, i.e. the physical qubits used in the circuit, were selected specifically based on the topology of the Rigetti Ankaa-3 quantum computer. The topology is exemplified later in this notebook. For now we simply show how to create a circuit with $CNOT$ gates, targetting $10$ qubits.\n",
    "\n",
    "Note that in Braket, we assign the physical (hardware) qubits when we define our circuit. It is different from IBM Qiskit, where the mapping of circuit qubits to hardware qubits is handled during the compilation step.\n",
    "\n",
    "Below we will define two circuits, each with different arrangament of $CNOT$ gates. After that, the two circuits can be concatenated together to create an even bigger circuit, which will be the actual circuit we will use."
   ]
  },
  {
   "cell_type": "code",
   "execution_count": 5,
   "id": "b93fa2ca-b99a-47ea-8f64-ddb993681d2d",
   "metadata": {
    "tags": []
   },
   "outputs": [
    {
     "data": {
      "text/plain": [
       "Circuit('instructions': [Instruction('operator': CNot('qubit_count': 2), 'target': QubitSet([Qubit(77), Qubit(78)]), 'control': QubitSet([]), 'control_state': (), 'power': 1), Instruction('operator': CNot('qubit_count': 2), 'target': QubitSet([Qubit(70), Qubit(71)]), 'control': QubitSet([]), 'control_state': (), 'power': 1), Instruction('operator': CNot('qubit_count': 2), 'target': QubitSet([Qubit(63), Qubit(64)]), 'control': QubitSet([]), 'control_state': (), 'power': 1), Instruction('operator': CNot('qubit_count': 2), 'target': QubitSet([Qubit(56), Qubit(57)]), 'control': QubitSet([]), 'control_state': (), 'power': 1), Instruction('operator': CNot('qubit_count': 2), 'target': QubitSet([Qubit(49), Qubit(50)]), 'control': QubitSet([]), 'control_state': (), 'power': 1)])"
      ]
     },
     "execution_count": 5,
     "metadata": {},
     "output_type": "execute_result"
    }
   ],
   "source": [
    "# define a circuit\n",
    "circ_a = Circuit()\n",
    "\n",
    "# add gates to the circuit\n",
    "circ_a.cnot(77, 78)\n",
    "circ_a.cnot(70, 71)\n",
    "circ_a.cnot(63, 64)\n",
    "circ_a.cnot(56, 57)\n",
    "circ_a.cnot(49, 50)"
   ]
  },
  {
   "cell_type": "code",
   "execution_count": 6,
   "id": "e79292ef-4356-47ff-844c-47e1855cc001",
   "metadata": {},
   "outputs": [
    {
     "name": "stdout",
     "output_type": "stream",
     "text": [
      "T   : │  0  │\n",
      "             \n",
      "q49 : ───●───\n",
      "         │   \n",
      "       ┌─┴─┐ \n",
      "q50 : ─┤ X ├─\n",
      "       └───┘ \n",
      "             \n",
      "q56 : ───●───\n",
      "         │   \n",
      "       ┌─┴─┐ \n",
      "q57 : ─┤ X ├─\n",
      "       └───┘ \n",
      "             \n",
      "q63 : ───●───\n",
      "         │   \n",
      "       ┌─┴─┐ \n",
      "q64 : ─┤ X ├─\n",
      "       └───┘ \n",
      "             \n",
      "q70 : ───●───\n",
      "         │   \n",
      "       ┌─┴─┐ \n",
      "q71 : ─┤ X ├─\n",
      "       └───┘ \n",
      "             \n",
      "q77 : ───●───\n",
      "         │   \n",
      "       ┌─┴─┐ \n",
      "q78 : ─┤ X ├─\n",
      "       └───┘ \n",
      "T   : │  0  │\n"
     ]
    }
   ],
   "source": [
    "# print the circuit for inspecction\n",
    "print(circ_a)"
   ]
  },
  {
   "cell_type": "code",
   "execution_count": 7,
   "id": "f430d7f0-f47f-41fd-98da-8d3c4676d244",
   "metadata": {
    "tags": []
   },
   "outputs": [
    {
     "data": {
      "text/plain": [
       "Circuit('instructions': [Instruction('operator': CNot('qubit_count': 2), 'target': QubitSet([Qubit(78), Qubit(71)]), 'control': QubitSet([]), 'control_state': (), 'power': 1), Instruction('operator': CNot('qubit_count': 2), 'target': QubitSet([Qubit(70), Qubit(63)]), 'control': QubitSet([]), 'control_state': (), 'power': 1), Instruction('operator': CNot('qubit_count': 2), 'target': QubitSet([Qubit(64), Qubit(57)]), 'control': QubitSet([]), 'control_state': (), 'power': 1), Instruction('operator': CNot('qubit_count': 2), 'target': QubitSet([Qubit(56), Qubit(49)]), 'control': QubitSet([]), 'control_state': (), 'power': 1)])"
      ]
     },
     "execution_count": 7,
     "metadata": {},
     "output_type": "execute_result"
    }
   ],
   "source": [
    "# define a second circuit whith different arrangament of CNOT gates\n",
    "circ_b = Circuit()\n",
    "\n",
    "# add gates to the circuit\n",
    "circ_b.cnot(78, 71)\n",
    "circ_b.cnot(70, 63)\n",
    "circ_b.cnot(64, 57)\n",
    "circ_b.cnot(56, 49)"
   ]
  },
  {
   "cell_type": "code",
   "execution_count": 9,
   "id": "fecddcc4-5bed-470d-8abf-d245eedcd98a",
   "metadata": {},
   "outputs": [
    {
     "name": "stdout",
     "output_type": "stream",
     "text": [
      "T   : │     0     │\n",
      "       ┌───┐       \n",
      "q49 : ─┤ X ├───────\n",
      "       └─┬─┘       \n",
      "         │         \n",
      "q56 : ───●─────────\n",
      "                   \n",
      "             ┌───┐ \n",
      "q57 : ───────┤ X ├─\n",
      "             └─┬─┘ \n",
      "       ┌───┐   │   \n",
      "q63 : ─┤ X ├───┼───\n",
      "       └─┬─┘   │   \n",
      "         │     │   \n",
      "q64 : ───┼─────●───\n",
      "         │         \n",
      "         │         \n",
      "q70 : ───●─────────\n",
      "                   \n",
      "       ┌───┐       \n",
      "q71 : ─┤ X ├───────\n",
      "       └─┬─┘       \n",
      "         │         \n",
      "q78 : ───●─────────\n",
      "                   \n",
      "T   : │     0     │\n"
     ]
    }
   ],
   "source": [
    "# print the circuit for inspecction\n",
    "print(circ_b)"
   ]
  },
  {
   "cell_type": "markdown",
   "id": "8b13a9de-f891-4cd3-ac84-4d71a8de6e65",
   "metadata": {},
   "source": [
    "<h1 style=\"color:#4E2A84;\">Put Together Code for a Circuit with Many CNOT Gates</h1>\n",
    "\n",
    "Now we will combine the smaller circuits, $circ\\_a$ and $circ\\_b$ to create a bigger circuit. Althought the circuit does no useful work and the outputs will not make sense, we will add the $circ\\_m$ circuit with just measurements at the end of the combined circuit so that the overall bigger circuit has proper measurment at end on all the qubits.\n",
    "\n",
    "You can adjust the $num\\_copies$ variable to control how many copies of the circuits will be concatenated together."
   ]
  },
  {
   "cell_type": "code",
   "execution_count": 18,
   "id": "b54e5377-4ceb-433f-a785-825c341995b5",
   "metadata": {},
   "outputs": [],
   "source": [
    "# create the main circuit\n",
    "circ_many_cnot_gates = Circuit()\n",
    "\n",
    "# set now many copies of the circuits to concatenate together\n",
    "num_copies = 2\n",
    "\n",
    "# use a loop to concatenate many copies of the circuits together\n",
    "for n in range(0,num_copies):\n",
    "    circ_many_cnot_gates += circ_a\n",
    "    circ_many_cnot_gates += circ_b"
   ]
  },
  {
   "cell_type": "code",
   "execution_count": 19,
   "id": "b52aa00b-d0ec-49c2-a211-2ef744956fd5",
   "metadata": {
    "scrolled": true
   },
   "outputs": [
    {
     "name": "stdout",
     "output_type": "stream",
     "text": [
      "T   : │  0  │     1     │  2  │     3     │\n",
      "             ┌───┐             ┌───┐       \n",
      "q49 : ───●───┤ X ├─────────●───┤ X ├───────\n",
      "         │   └─┬─┘         │   └─┬─┘       \n",
      "       ┌─┴─┐   │         ┌─┴─┐   │         \n",
      "q50 : ─┤ X ├───┼─────────┤ X ├───┼─────────\n",
      "       └───┘   │         └───┘   │         \n",
      "               │                 │         \n",
      "q56 : ───●─────●───────────●─────●─────────\n",
      "         │                 │               \n",
      "       ┌─┴─┐       ┌───┐ ┌─┴─┐       ┌───┐ \n",
      "q57 : ─┤ X ├───────┤ X ├─┤ X ├───────┤ X ├─\n",
      "       └───┘       └─┬─┘ └───┘       └─┬─┘ \n",
      "             ┌───┐   │         ┌───┐   │   \n",
      "q63 : ───●───┤ X ├───┼─────●───┤ X ├───┼───\n",
      "         │   └─┬─┘   │     │   └─┬─┘   │   \n",
      "       ┌─┴─┐   │     │   ┌─┴─┐   │     │   \n",
      "q64 : ─┤ X ├───┼─────●───┤ X ├───┼─────●───\n",
      "       └───┘   │         └───┘   │         \n",
      "               │                 │         \n",
      "q70 : ───●─────●───────────●─────●─────────\n",
      "         │                 │               \n",
      "       ┌─┴─┐ ┌───┐       ┌─┴─┐ ┌───┐       \n",
      "q71 : ─┤ X ├─┤ X ├───────┤ X ├─┤ X ├───────\n",
      "       └───┘ └─┬─┘       └───┘ └─┬─┘       \n",
      "               │                 │         \n",
      "q77 : ───●─────┼───────────●─────┼─────────\n",
      "         │     │           │     │         \n",
      "       ┌─┴─┐   │         ┌─┴─┐   │         \n",
      "q78 : ─┤ X ├───●─────────┤ X ├───●─────────\n",
      "       └───┘             └───┘             \n",
      "T   : │  0  │     1     │  2  │     3     │\n"
     ]
    }
   ],
   "source": [
    "# print the circuit\n",
    "print(circ_many_cnot_gates)"
   ]
  },
  {
   "cell_type": "markdown",
   "id": "ce698d79-3898-44fb-acba-ea319205abe1",
   "metadata": {
    "tags": []
   },
   "source": [
    "<h1 style=\"color:#4E2A84;\">Add Simple Victim Qubit and a Reference Qubit</h1>\n",
    "\n",
    "To evaluate the effect of many $CNOT$ gates, we need a so-called victim qubit. We will select a qubit that is adjacent to the circuit with the $CNOT$ gates. Here the victim qubit will be qubit $65$.\n",
    "\n",
    "To compare the potential results of the crosstalk to behavior of an unaffected qubit, we need to have a reference qubit somewhere else in the topology. We will select qubit $6$ as the reference qubit, it is far away from the qubits where $CNOT$ gates execute, and so it should not be impacted by the crosstalk.\n",
    "\n",
    "The victim's location and the reference qubit's location can be visualized on the Ankaa-3 topology:\n",
    "\n",
    "<img src=\"images/cnot_crosstalk_example_on_ankaa_3_topology.png\" alt=\"Kernel selection\" style=\"width:500px;\"/>"
   ]
  },
  {
   "cell_type": "code",
   "execution_count": 22,
   "id": "ec8f8570-303b-4fb7-ab63-5f67f7c76cac",
   "metadata": {},
   "outputs": [],
   "source": [
    "# new circuit for the victim qubit\n",
    "victim_qubit_index = 65\n",
    "circ_victim = Circuit()\n",
    "\n",
    "# new circuit for a reference qubit\n",
    "reference_qubit_index = 6\n",
    "circ_reference = Circuit()\n",
    "\n",
    "# put all the circuits together\n",
    "circ_cnots_and_victim = Circuit()\n",
    "circ_cnots_and_victim += circ_many_cnot_gates\n",
    "circ_cnots_and_victim += circ_victim\n",
    "circ_cnots_and_victim += circ_reference"
   ]
  },
  {
   "cell_type": "code",
   "execution_count": 23,
   "id": "692ec034-c8d2-421b-943d-d841209d3d5a",
   "metadata": {},
   "outputs": [
    {
     "name": "stdout",
     "output_type": "stream",
     "text": [
      "T   : │  0  │     1     │  2  │     3     │\n",
      "             ┌───┐             ┌───┐       \n",
      "q49 : ───●───┤ X ├─────────●───┤ X ├───────\n",
      "         │   └─┬─┘         │   └─┬─┘       \n",
      "       ┌─┴─┐   │         ┌─┴─┐   │         \n",
      "q50 : ─┤ X ├───┼─────────┤ X ├───┼─────────\n",
      "       └───┘   │         └───┘   │         \n",
      "               │                 │         \n",
      "q56 : ───●─────●───────────●─────●─────────\n",
      "         │                 │               \n",
      "       ┌─┴─┐       ┌───┐ ┌─┴─┐       ┌───┐ \n",
      "q57 : ─┤ X ├───────┤ X ├─┤ X ├───────┤ X ├─\n",
      "       └───┘       └─┬─┘ └───┘       └─┬─┘ \n",
      "             ┌───┐   │         ┌───┐   │   \n",
      "q63 : ───●───┤ X ├───┼─────●───┤ X ├───┼───\n",
      "         │   └─┬─┘   │     │   └─┬─┘   │   \n",
      "       ┌─┴─┐   │     │   ┌─┴─┐   │     │   \n",
      "q64 : ─┤ X ├───┼─────●───┤ X ├───┼─────●───\n",
      "       └───┘   │         └───┘   │         \n",
      "               │                 │         \n",
      "q70 : ───●─────●───────────●─────●─────────\n",
      "         │                 │               \n",
      "       ┌─┴─┐ ┌───┐       ┌─┴─┐ ┌───┐       \n",
      "q71 : ─┤ X ├─┤ X ├───────┤ X ├─┤ X ├───────\n",
      "       └───┘ └─┬─┘       └───┘ └─┬─┘       \n",
      "               │                 │         \n",
      "q77 : ───●─────┼───────────●─────┼─────────\n",
      "         │     │           │     │         \n",
      "       ┌─┴─┐   │         ┌─┴─┐   │         \n",
      "q78 : ─┤ X ├───●─────────┤ X ├───●─────────\n",
      "       └───┘             └───┘             \n",
      "T   : │  0  │     1     │  2  │     3     │\n"
     ]
    }
   ],
   "source": [
    "# print circuit for visual inspection\n",
    "print(circ_cnots_and_victim)"
   ]
  },
  {
   "cell_type": "markdown",
   "id": "f9819c74-2f85-48b1-81d4-be0c12414c64",
   "metadata": {},
   "source": [
    "<h1 style=\"color:#4E2A84;\">Add Measurement to All Qubits</h1>\n",
    "\n",
    "With the circuit completed, the last part is now to add measurement to all the qubits."
   ]
  },
  {
   "cell_type": "code",
   "execution_count": 24,
   "id": "00af9010-57ed-47c9-bbbd-df0532c55d23",
   "metadata": {},
   "outputs": [
    {
     "data": {
      "text/plain": [
       "Circuit('instructions': [Instruction('operator': CNot('qubit_count': 2), 'target': QubitSet([Qubit(77), Qubit(78)]), 'control': QubitSet([]), 'control_state': (), 'power': 1), Instruction('operator': CNot('qubit_count': 2), 'target': QubitSet([Qubit(70), Qubit(71)]), 'control': QubitSet([]), 'control_state': (), 'power': 1), Instruction('operator': CNot('qubit_count': 2), 'target': QubitSet([Qubit(63), Qubit(64)]), 'control': QubitSet([]), 'control_state': (), 'power': 1), Instruction('operator': CNot('qubit_count': 2), 'target': QubitSet([Qubit(56), Qubit(57)]), 'control': QubitSet([]), 'control_state': (), 'power': 1), Instruction('operator': CNot('qubit_count': 2), 'target': QubitSet([Qubit(49), Qubit(50)]), 'control': QubitSet([]), 'control_state': (), 'power': 1), Instruction('operator': CNot('qubit_count': 2), 'target': QubitSet([Qubit(78), Qubit(71)]), 'control': QubitSet([]), 'control_state': (), 'power': 1), Instruction('operator': CNot('qubit_count': 2), 'target': QubitSet([Qubit(70), Qubit(63)]), 'control': QubitSet([]), 'control_state': (), 'power': 1), Instruction('operator': CNot('qubit_count': 2), 'target': QubitSet([Qubit(64), Qubit(57)]), 'control': QubitSet([]), 'control_state': (), 'power': 1), Instruction('operator': CNot('qubit_count': 2), 'target': QubitSet([Qubit(56), Qubit(49)]), 'control': QubitSet([]), 'control_state': (), 'power': 1), Instruction('operator': CNot('qubit_count': 2), 'target': QubitSet([Qubit(77), Qubit(78)]), 'control': QubitSet([]), 'control_state': (), 'power': 1), Instruction('operator': CNot('qubit_count': 2), 'target': QubitSet([Qubit(70), Qubit(71)]), 'control': QubitSet([]), 'control_state': (), 'power': 1), Instruction('operator': CNot('qubit_count': 2), 'target': QubitSet([Qubit(63), Qubit(64)]), 'control': QubitSet([]), 'control_state': (), 'power': 1), Instruction('operator': CNot('qubit_count': 2), 'target': QubitSet([Qubit(56), Qubit(57)]), 'control': QubitSet([]), 'control_state': (), 'power': 1), Instruction('operator': CNot('qubit_count': 2), 'target': QubitSet([Qubit(49), Qubit(50)]), 'control': QubitSet([]), 'control_state': (), 'power': 1), Instruction('operator': CNot('qubit_count': 2), 'target': QubitSet([Qubit(78), Qubit(71)]), 'control': QubitSet([]), 'control_state': (), 'power': 1), Instruction('operator': CNot('qubit_count': 2), 'target': QubitSet([Qubit(70), Qubit(63)]), 'control': QubitSet([]), 'control_state': (), 'power': 1), Instruction('operator': CNot('qubit_count': 2), 'target': QubitSet([Qubit(64), Qubit(57)]), 'control': QubitSet([]), 'control_state': (), 'power': 1), Instruction('operator': CNot('qubit_count': 2), 'target': QubitSet([Qubit(56), Qubit(49)]), 'control': QubitSet([]), 'control_state': (), 'power': 1), Instruction('operator': Measure, 'target': QubitSet([Qubit(49)]), 'control': QubitSet([]), 'control_state': (), 'power': 1), Instruction('operator': Measure, 'target': QubitSet([Qubit(50)]), 'control': QubitSet([]), 'control_state': (), 'power': 1), Instruction('operator': Measure, 'target': QubitSet([Qubit(56)]), 'control': QubitSet([]), 'control_state': (), 'power': 1), Instruction('operator': Measure, 'target': QubitSet([Qubit(57)]), 'control': QubitSet([]), 'control_state': (), 'power': 1), Instruction('operator': Measure, 'target': QubitSet([Qubit(63)]), 'control': QubitSet([]), 'control_state': (), 'power': 1), Instruction('operator': Measure, 'target': QubitSet([Qubit(64)]), 'control': QubitSet([]), 'control_state': (), 'power': 1), Instruction('operator': Measure, 'target': QubitSet([Qubit(70)]), 'control': QubitSet([]), 'control_state': (), 'power': 1), Instruction('operator': Measure, 'target': QubitSet([Qubit(71)]), 'control': QubitSet([]), 'control_state': (), 'power': 1), Instruction('operator': Measure, 'target': QubitSet([Qubit(77)]), 'control': QubitSet([]), 'control_state': (), 'power': 1), Instruction('operator': Measure, 'target': QubitSet([Qubit(78)]), 'control': QubitSet([]), 'control_state': (), 'power': 1), Instruction('operator': Measure, 'target': QubitSet([Qubit(66)]), 'control': QubitSet([]), 'control_state': (), 'power': 1), Instruction('operator': Measure, 'target': QubitSet([Qubit(6)]), 'control': QubitSet([]), 'control_state': (), 'power': 1)])"
      ]
     },
     "execution_count": 24,
     "metadata": {},
     "output_type": "execute_result"
    }
   ],
   "source": [
    "# add final measurement to all qubits\n",
    "circ_cnots_and_victim.measure([49,50,56,57,63,64,70,71,77,78,66,6])"
   ]
  },
  {
   "cell_type": "code",
   "execution_count": 26,
   "id": "657ad889-bd59-4009-afc2-c942f2031913",
   "metadata": {},
   "outputs": [
    {
     "name": "stdout",
     "output_type": "stream",
     "text": [
      "T   : │  0  │     1     │  2  │     3     │  4  │\n",
      "                                           ┌───┐ \n",
      "q6  : ─────────────────────────────────────┤ M ├─\n",
      "                                           └───┘ \n",
      "             ┌───┐             ┌───┐       ┌───┐ \n",
      "q49 : ───●───┤ X ├─────────●───┤ X ├───────┤ M ├─\n",
      "         │   └─┬─┘         │   └─┬─┘       └───┘ \n",
      "       ┌─┴─┐   │         ┌─┴─┐   │         ┌───┐ \n",
      "q50 : ─┤ X ├───┼─────────┤ X ├───┼─────────┤ M ├─\n",
      "       └───┘   │         └───┘   │         └───┘ \n",
      "               │                 │         ┌───┐ \n",
      "q56 : ───●─────●───────────●─────●─────────┤ M ├─\n",
      "         │                 │               └───┘ \n",
      "       ┌─┴─┐       ┌───┐ ┌─┴─┐       ┌───┐ ┌───┐ \n",
      "q57 : ─┤ X ├───────┤ X ├─┤ X ├───────┤ X ├─┤ M ├─\n",
      "       └───┘       └─┬─┘ └───┘       └─┬─┘ └───┘ \n",
      "             ┌───┐   │         ┌───┐   │   ┌───┐ \n",
      "q63 : ───●───┤ X ├───┼─────●───┤ X ├───┼───┤ M ├─\n",
      "         │   └─┬─┘   │     │   └─┬─┘   │   └───┘ \n",
      "       ┌─┴─┐   │     │   ┌─┴─┐   │     │   ┌───┐ \n",
      "q64 : ─┤ X ├───┼─────●───┤ X ├───┼─────●───┤ M ├─\n",
      "       └───┘   │         └───┘   │         └───┘ \n",
      "               │                 │         ┌───┐ \n",
      "q66 : ─────────┼─────────────────┼─────────┤ M ├─\n",
      "               │                 │         └───┘ \n",
      "               │                 │         ┌───┐ \n",
      "q70 : ───●─────●───────────●─────●─────────┤ M ├─\n",
      "         │                 │               └───┘ \n",
      "       ┌─┴─┐ ┌───┐       ┌─┴─┐ ┌───┐       ┌───┐ \n",
      "q71 : ─┤ X ├─┤ X ├───────┤ X ├─┤ X ├───────┤ M ├─\n",
      "       └───┘ └─┬─┘       └───┘ └─┬─┘       └───┘ \n",
      "               │                 │         ┌───┐ \n",
      "q77 : ───●─────┼───────────●─────┼─────────┤ M ├─\n",
      "         │     │           │     │         └───┘ \n",
      "       ┌─┴─┐   │         ┌─┴─┐   │         ┌───┐ \n",
      "q78 : ─┤ X ├───●─────────┤ X ├───●─────────┤ M ├─\n",
      "       └───┘             └───┘             └───┘ \n",
      "T   : │  0  │     1     │  2  │     3     │  4  │\n"
     ]
    }
   ],
   "source": [
    "# print circuit for inspection\n",
    "print(circ_cnots_and_victim)"
   ]
  },
  {
   "cell_type": "markdown",
   "id": "66dda952-ba4a-4e19-91bc-30498d7178a2",
   "metadata": {},
   "source": [
    "<h1 style=\"color:#4E2A84;\">Estimate the Circuit Duration</h1>\n",
    "\n",
    "As a minor sanity check, we want to check the duration of the circuit we generated. It is important to note that the qubits decohere, and computation cannot usually run longer than the so called $T1$ time ($T1$ time is an average, so in some cases compuation can run slightly longer than $T1$). If the circuit with many $CNOT$ gates were used to generate crosstalk and evaluate potentail qubit flits, the circuit with many $CNOT$ gates has to execute in the time shorter than $T1$. Otherwise, any qubit flips or state changes in other qubits affected by the crosstalk may actually be due to decoherence and not crosstalk.\n",
    "\n",
    "In summary, when running any experiments or circuits that are used to generate and evaluate crosstalk, all the circuits have to finish execution in time less than $T1$ so that the qubit flips can be attribtued to crosstalk."
   ]
  },
  {
   "cell_type": "code",
   "execution_count": 28,
   "id": "55f65e4d-c32d-4947-9690-9707fa76c91b",
   "metadata": {},
   "outputs": [
    {
     "name": "stdout",
     "output_type": "stream",
     "text": [
      "Gate depth: 5\n",
      "Based on gate depth, total circuit execution time seems to be less than the decoherence time.\n"
     ]
    }
   ],
   "source": [
    "# circuit to estimate\n",
    "circ_to_estimate = circ_cnots_and_victim\n",
    "\n",
    "# typical approximate parameters for Ankaa-3, time units are ns\n",
    "typical_parameters_ankaa_3_ns = {\n",
    "    \"t1\": 22000,\n",
    "    \"t2\": 19000,\n",
    "    \"cnot\": 72,\n",
    "}\n",
    "\n",
    "# get depth of the circuit\n",
    "print(\"Gate depth:\", circ_to_estimate.depth)\n",
    "\n",
    "# sanity check\n",
    "if circ_to_estimate.depth * typical_parameters_ankaa_3_ns['cnot'] < typical_parameters_ankaa_3_ns['t1']:\n",
    "    print(\"Based on gate depth, total circuit execution time seems to be less than the decoherence time.\")\n",
    "else:\n",
    "    print(\"Based on gate depth, total circuit execution time seems to be more than the decoherence time.\")\n",
    "    print(\"Be careful that any experiment results are affected by decoherence!\")\n"
   ]
  },
  {
   "cell_type": "markdown",
   "id": "ff50e453-2756-42ce-a5c0-9b4a22bdadef",
   "metadata": {},
   "source": [
    "<h1 style=\"color:#4E2A84;\">Skip Simulation</h1> \n",
    "\n",
    "Simple state-vector simulators do not simulate crosstalk, thus running circuits used for generating crosstalk, or trying to evalute crosstalk in state-vector simulators is not helpful. We will directly proceed to estimate the execution cost and run the circuit on real quantum computer."
   ]
  },
  {
   "cell_type": "markdown",
   "id": "5b049353-85b5-4d6f-9e42-068ecaaa6f85",
   "metadata": {},
   "source": [
    "<h1 style=\"color:#4E2A84;\">Set Number of Shots</h1> \n",
    "\n",
    "Before estimating the cost and executing the circuit, we need to specify the number of shots. As usually, a number aroung $1000$ should be sufficient."
   ]
  },
  {
   "cell_type": "code",
   "execution_count": null,
   "id": "1f580d1e-44b6-4dc0-ba6d-efbb6b1dc1c5",
   "metadata": {},
   "outputs": [],
   "source": [
    "# set number of shots\n",
    "circuit_shots = 1000"
   ]
  },
  {
   "cell_type": "markdown",
   "id": "e2ba5068-43b0-41d5-8e04-03c264ab7280",
   "metadata": {
    "editable": true,
    "slideshow": {
     "slide_type": ""
    },
    "tags": []
   },
   "source": [
    "<h1 style=\"color:#4E2A84;\">Estimate qBraids Credits Needed</h1> \n",
    "\n",
    "The cost to run a circuit on a quantum computer is divided into per-task cost (effectively the cost to submit a circuit for execution) and per-shot cost (additional cost for each shot).\n",
    "\n",
    "You can view the cost by selecting $DEVICES$ on the right-hand side of the editor, then search for Rigetti Ankaa-3 (AWS) and finally selecting the pricing cell. <img src=\"images/image_pricing.png\" alt=\"View pricing\" style=\"width:300px;\"/>\n",
    "\n",
    "The current cost is $30$ qBraid Credits per-task on Ankaa-3 and then $0.09$ qBraid Credits per-task.\n",
    "\n",
    "Currently each qBraid credit is valued at $0.01$ USD. This means that $100$ credits equate to $1.00$ USD."
   ]
  },
  {
   "cell_type": "code",
   "execution_count": null,
   "id": "7f1e33f7-4a30-4a03-a9f7-3e797f08deac",
   "metadata": {
    "editable": true,
    "slideshow": {
     "slide_type": ""
    },
    "tags": []
   },
   "outputs": [],
   "source": [
    "# compute cost\n",
    "perTaksCost = 30.00\n",
    "perShotCost = 0.09\n",
    "totalCost = perTaksCost+perShotCost*circuit_shots\n",
    "totalCostDollars = totalCost/100\n",
    "\n",
    "# print cost\n",
    "print(f'Cost to run Bell circuit on Rigetti Ankaa-3 via AWS is:')\n",
    "print(f'{totalCost} qBraid Credit or equivalently ${totalCostDollars} USD')"
   ]
  },
  {
   "cell_type": "markdown",
   "id": "84bac5e4-3ae8-4af0-af0f-50feb28a3392",
   "metadata": {
    "editable": true,
    "slideshow": {
     "slide_type": ""
    },
    "tags": []
   },
   "source": [
    "<h1 style=\"color:#4E2A84;\">Request qBraid Credits</h1> \n",
    "\n",
    "If you do not have AWS credentials for submitting your quantum jobs, you will need qBraid Credits to run the code on actual quantum computer. Please request qBraid Credits from the instructor. After you have qBraid Credits then you can proceed with the following code."
   ]
  },
  {
   "cell_type": "markdown",
   "id": "c3fde630-3cfd-4d53-aeb7-5db5e8a6227b",
   "metadata": {
    "tags": []
   },
   "source": [
    "<h1 style=\"color:#4E2A84;\">Submit the Circuit to Rigetti Ankaa-3 and Obtain the Results</h1>\n",
    "\n",
    "You can now submit the circuit for execution.\n",
    "\n",
    "Please note, we’ve disabled qubit rewiring to allow us to ensure the qubits numbers we used in the circuit definition are exactly the ones which be used to execute our circuit. E.g. if the victim is set to qubit $65$, with qubit rewriting disabled, the complier will not change or move our victim qubit. For Rigetti, qubit rewiring must be turned off by setting disableQubitRewiring=True for use with verbatim compilation. If disableQubitRewiring=False is set when using verbatim boxes in a compilation, the quantum circuit fails validation and does not run."
   ]
  },
  {
   "cell_type": "code",
   "execution_count": null,
   "id": "7e2c58df-f9da-437a-9623-35fa6b0fc43a",
   "metadata": {},
   "outputs": [],
   "source": [
    "# circuit to run\n",
    "circ_to_run = circ_cnots_and_victim\n",
    "\n",
    "# print circuit\n",
    "print(circ_to_run)"
   ]
  },
  {
   "cell_type": "code",
   "execution_count": null,
   "id": "dee75a5b-fe7e-4394-820b-b7ef431f13e7",
   "metadata": {},
   "outputs": [],
   "source": [
    "# set up device\n",
    "ankaa = AwsDevice('arn:aws:braket:us-west-1::device/qpu/rigetti/Ankaa-3')\n",
    "\n",
    "# run circuit\n",
    "ankaa_task = ankaa.run(circ_to_run, shots=circuit_shots, disable_qubit_rewiring=True)\n",
    "    \n",
    "# get id and status of submitted task\n",
    "ankaa_task_id = ankaa_task.id\n",
    "ankaa_status = ankaa_task.state()\n",
    "\n",
    "# print task status\n",
    "print(f'Status of task: {ankaa_status}\\n')\n",
    "\n",
    "# print task id for future reference\n",
    "print(f'Task id: {ankaa_task_id}')"
   ]
  },
  {
   "cell_type": "code",
   "execution_count": null,
   "id": "8a701c91-b9fc-4479-8563-18f4e8f7be6e",
   "metadata": {},
   "outputs": [],
   "source": [
    "# get task arn\n",
    "ankaa_task_arn = ''\n",
    "\n",
    "# load the quantum task\n",
    "ankaa_task_id = AwsQuantumTask(arn=ankaa_task_arn)\n",
    "\n",
    "# print status\n",
    "status = ankaa_task_id.state()\n",
    "print(\"Status of the task:\", status)\n",
    "\n",
    "print(ankaa_task_id.state())\n",
    "print(ankaa_task_id.metadata())  # Includes status, failure reason"
   ]
  },
  {
   "cell_type": "markdown",
   "id": "7cfd4243-ef9c-45a0-af68-aab99d990172",
   "metadata": {
    "tags": []
   },
   "source": [
    "<h1 style=\"color:#4E2A84;\">Analyze Results</h1>\n",
    "\n"
   ]
  },
  {
   "cell_type": "code",
   "execution_count": null,
   "id": "89735c31-b34c-4b72-aa87-8d8dcfa10972",
   "metadata": {
    "tags": []
   },
   "outputs": [],
   "source": [
    "# get results\n",
    "ankaa_results = ankaa_task_id.result()\n",
    "\n",
    "# get measurement counts\n",
    "ankaa_counts = ankaa_results.measurement_counts\n",
    "print(\"Measurement counts:\", ankaa_counts)"
   ]
  }
 ],
 "metadata": {
  "kernelspec": {
   "display_name": "Python 3.11 [Braket 1.88.3]",
   "language": "python",
   "name": "python3_amazon_dbqb0r"
  },
  "language_info": {
   "codemirror_mode": {
    "name": "ipython",
    "version": 3
   },
   "file_extension": ".py",
   "mimetype": "text/x-python",
   "name": "python",
   "nbconvert_exporter": "python",
   "pygments_lexer": "ipython3",
   "version": "3.11.9"
  }
 },
 "nbformat": 4,
 "nbformat_minor": 5
}

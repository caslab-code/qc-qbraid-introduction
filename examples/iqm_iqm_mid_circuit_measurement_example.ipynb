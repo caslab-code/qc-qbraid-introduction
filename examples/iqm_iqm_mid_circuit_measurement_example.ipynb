{
 "cells": [
  {
   "cell_type": "markdown",
   "metadata": {
    "slideshow": {
     "slide_type": "fragment"
    },
    "tags": []
   },
   "source": [
    "<h1 style=\"color:#4E2A84;\"> IQM - Qiskit - IQM - Mid Circuit Measurement and Qubit Reset</h1>\n",
    "\n",
    "This notebook provides an example of using performing mid circuit measurement and then using the measurement results to reset the qubits on IQM. The mid circuit measurement is combined with a conditional $X$ gate to flip the qubits to $\\ket{0}$ state thus achieving same result as active reset.\n",
    "\n",
    "This notebook leverages the `IQM` cloud service, specifically IQM Resonance, it uses the `Qiskit` development environment and targets a `IQM` Garnet superconducting quantum computer."
   ]
  },
  {
   "cell_type": "code",
   "execution_count": null,
   "metadata": {},
   "outputs": [],
   "source": [
    "# reset all notebook variables just in case\n",
    "%reset -f"
   ]
  },
  {
   "cell_type": "markdown",
   "metadata": {
    "tags": []
   },
   "source": [
    "<h1 style=\"color:#4E2A84;\">Install IQM Qiskit Client and Other Dependencies</h1>\n",
    "\n",
    "The IQM quantum computers used in this example are accessed via the IQM client, which is part of the `iqm-client[qiskit]` package.\n",
    "\n",
    "In addition you need `pylatexenc` package when using the `Python 3 \\[Default\\]` environment. \n",
    "\n",
    "All the dependencies can be installed using `pip install` commands below."
   ]
  },
  {
   "cell_type": "code",
   "execution_count": null,
   "metadata": {},
   "outputs": [],
   "source": [
    "%%capture\n",
    "!pip install -U \"iqm-client[qiskit]==23.8\"\n",
    "!pip install -U \"pylatexenc\""
   ]
  },
  {
   "cell_type": "markdown",
   "metadata": {
    "tags": []
   },
   "source": [
    "<h1 style=\"color:#4E2A84;\">Provide IQM API Token</h1>\n",
    "\n",
    "In order to access IQM Garnet quantum computer through the IQM Resonance cloud service, you will need to create and provide an API token from IQM. If you have IQM Resonance account, you can access your account and token by going to the [IQM Resonance Dashboard](https://resonance.meetiqm.com) and then clicking View Account on the top-right of the web page."
   ]
  },
  {
   "cell_type": "markdown",
   "metadata": {
    "editable": true,
    "slideshow": {
     "slide_type": ""
    },
    "tags": []
   },
   "source": [
    "<h1 style=\"color:#4E2A84;\">Request IQM Token</h1> \n",
    "\n",
    "If you do not have IQM Resonance account, please request access from the instructor. After you have IQM Resonance account, then you can generate your API token and enter it when the below code is executed."
   ]
  },
  {
   "cell_type": "code",
   "execution_count": null,
   "metadata": {},
   "outputs": [],
   "source": [
    "# input your IQM token\n",
    "import os\n",
    "os.environ[\"IQM_TOKEN\"] = input()"
   ]
  },
  {
   "cell_type": "markdown",
   "metadata": {
    "editable": true,
    "slideshow": {
     "slide_type": ""
    },
    "tags": []
   },
   "source": [
    "<h1 style=\"color:#4E2A84;\">Connect to IQM Quantum Computer</h1> \n",
    "\n",
    "Below code uses IQMProvider to connect to a quantum computer through an IQM server. Your API access token is used implicitly when establishing the connection.\n",
    "\n",
    "You may ignore errors about IQM Client versions that may be printed when connecting to the server."
   ]
  },
  {
   "cell_type": "code",
   "execution_count": null,
   "metadata": {},
   "outputs": [],
   "source": [
    "# import IQMProvider package\n",
    "from iqm.qiskit_iqm import IQMProvider\n",
    "\n",
    "# server address for IQM Garnet\n",
    "server_url = 'https://cocos.resonance.meetiqm.com/garnet'\n",
    "\n",
    "# connect to server and obtain backend object used later to execute jobs\n",
    "print(f\"Create CoCoS backend: {server_url}\")\n",
    "provider = IQMProvider(server_url)\n",
    "backend = provider.get_backend()"
   ]
  },
  {
   "cell_type": "markdown",
   "metadata": {},
   "source": [
    "<h1 style=\"color:#4E2A84;\">Sample Circuit with Mid Circuit Measurement and Conditional X Gate</h1>\n",
    "\n",
    "Below is a simple circuit written using Qiskit that contains a single $H$ gate and then performs mid circuit measurement followed by conditional $X$ gate and a final measurement.\n",
    "\n",
    "Note the circuit uses a concept of `barrier'. A barrier is used in quantum circuits to prevent the compiler from reordering or optimizing across the barrier in the circuit. It's a logical fence that ensures operations before and after the barrier remain in their specified order when the circuit is transpiled. E.g. operations after the barrier are never moved to happen before the barrier."
   ]
  },
  {
   "cell_type": "code",
   "execution_count": null,
   "metadata": {},
   "outputs": [],
   "source": [
    "# import Qiskit packages\n",
    "from qiskit import visualization, QuantumCircuit, ClassicalRegister, QuantumRegister, transpile\n",
    "from qiskit.visualization import plot_histogram\n",
    "\n",
    "# define qubits and classical registers\n",
    "qubit_1 = QuantumRegister(1, \"Q1\")\n",
    "qubit_2 = QuantumRegister(1, \"Q2\")\n",
    "c1 = ClassicalRegister(1, \"c1\")\n",
    "c2 = ClassicalRegister(1, \"c2\")\n",
    "c3 = ClassicalRegister(1, \"c3\")\n",
    "\n",
    "# create circuit\n",
    "circ = QuantumCircuit(qubit_1, qubit_2, c1, c2, c3)\n",
    "\n",
    "# simple circuit with one H age\n",
    "circ.h(qubit_1)\n",
    "\n",
    "# measure the qubit and conditionally apply X gate\n",
    "circ.measure(qubit_1, c1)\n",
    "circ.barrier()\n",
    "circ.x(qubit_1).c_if(c1 ,1)\n",
    "\n",
    "# again, measure the qubit and conditionally apply X gate\n",
    "circ.measure(qubit_1, c2)\n",
    "circ.barrier()\n",
    "circ.x(qubit_1).c_if(c2 ,1)\n",
    "\n",
    "# final measurement\n",
    "circ.measure(qubit_1, c3)"
   ]
  },
  {
   "cell_type": "code",
   "execution_count": null,
   "metadata": {},
   "outputs": [],
   "source": [
    "# dispaly circuit for visual inspection\n",
    "display(circ.draw('mpl'))"
   ]
  },
  {
   "cell_type": "markdown",
   "metadata": {},
   "source": [
    "<h1 style=\"color:#4E2A84;\">Transpile the Circuit</h1> \n",
    "\n",
    "As a next step, you need to transpile (i.e. compile) the circuit for the target IQM Garnet quantum computer."
   ]
  },
  {
   "cell_type": "code",
   "execution_count": null,
   "metadata": {},
   "outputs": [],
   "source": [
    "# transpile the circuit\n",
    "transpiled_circ = transpile(circ, backend=backend, optimization_level=0)"
   ]
  },
  {
   "cell_type": "code",
   "execution_count": null,
   "metadata": {},
   "outputs": [],
   "source": [
    "# dispaly circuit for visual inspection\n",
    "transpiled_circ.draw('mpl')"
   ]
  },
  {
   "cell_type": "markdown",
   "metadata": {},
   "source": [
    "<h1 style=\"color:#4E2A84;\">Subimt Circuit for Execution on Quantum Computer</h1> \n",
    "\n",
    "Now you can submit the circuit for execution. The circuit is executed by calling the `backend.run()` function. When the function is executed, the circuit will be queued by IQM Resonance for execution. Note that IQM has periods (hours) when the machine is not available, so you may need to wait a long time to get results, depending on what time of day you submit the circuit. You can check the $DEVICES$ tab on the right-hand side of the qBraid Lab to check when IQM will be available."
   ]
  },
  {
   "cell_type": "code",
   "execution_count": null,
   "metadata": {},
   "outputs": [],
   "source": [
    "# set number of shots\n",
    "shots = 1000\n",
    "\n",
    "# submit circuit for execution\n",
    "job = backend.run(transpiled_circ, shots=shots)\n",
    "\n",
    "# get job id for reference\n",
    "job_id = job.job_id()\n",
    "print('Job id:', job_id)"
   ]
  },
  {
   "cell_type": "markdown",
   "metadata": {
    "editable": true,
    "slideshow": {
     "slide_type": ""
    },
    "tags": []
   },
   "source": [
    "<h1 style=\"color:#4E2A84;\">Wait for Circuit to Execute</h1> \n",
    "\n",
    "You can regularly (or irregularly) check the status of this job by executing the following code. Job status (and results) are retrieved using IQM Client object. A connection is made to the IQM Resonance server (with your API token again being used implicitly), after which you can query the job status. You can alternatively check the job status on the [IQM Resonance Dashboard](https://resonance.meetiqm.com).\n",
    "\n",
    "You may ignore errors about IQM Client versions that may be printed when connecting to the server.\n",
    "\n",
    "When the output is `Status.READY` the job has completed and you can access the results."
   ]
  },
  {
   "cell_type": "code",
   "execution_count": null,
   "metadata": {},
   "outputs": [],
   "source": [
    "# import IQM Client package\n",
    "from iqm.iqm_client.iqm_client import IQMClient\n",
    "\n",
    "# server address\n",
    "server_url = 'https://cocos.resonance.meetiqm.com/garnet'\n",
    "\n",
    "# create IQM Client object\n",
    "iqm_client = IQMClient(server_url)\n",
    "\n",
    "# get status of desired job\n",
    "if job_id is None:\n",
    "    job_id = ''\n",
    "job_run_status = iqm_client.get_run_status(job_id)\n",
    "\n",
    "# print status\n",
    "print(job_run_status.status)"
   ]
  },
  {
   "cell_type": "markdown",
   "metadata": {
    "editable": true,
    "slideshow": {
     "slide_type": ""
    },
    "tags": []
   },
   "source": [
    "<h1 style=\"color:#4E2A84;\">Analyze Results</h1>"
   ]
  },
  {
   "cell_type": "code",
   "execution_count": null,
   "metadata": {},
   "outputs": [],
   "source": [
    "# get job results\n",
    "job_results = iqm_client.wait_for_results(job_id)\n",
    "\n",
    "# plot result\n",
    "result_dict = job.result().get_counts()\n",
    "visualization.plot_histogram(result_dict)"
   ]
  },
  {
   "cell_type": "code",
   "execution_count": null,
   "metadata": {},
   "outputs": [],
   "source": [
    "\n",
    "# Copyright 2025 Jakub Szefer\n",
    "# \n",
    "# Based on code from:\n",
    "# https://www.iqmacademy.com/notebookViewer/?path=%2Fnotebooks%2Fiqm%2Fgeneral%2FControlledPRXQiskit.ipynb\n",
    "#\n",
    "# Changes:\n",
    "# * add detailed comments for each step\n",
    "# * use IQMClient to check job status and separately retrieve the results when job completes\n",
    "# \n",
    "# Copyright 2025 IQM Quantum Computers (Stefan Pogorzalek, Stefan Seegerer)\n",
    "#\n",
    "# Licensed under the Apache License, Version 2.0 (the \"License\");\n",
    "# you may not use this file except in compliance with the License.\n",
    "# You may obtain a copy of the License at\n",
    "#\n",
    "#     http://www.apache.org/licenses/LICENSE-2.0\n",
    "#\n",
    "# Unless required by applicable law or agreed to in writing, software\n",
    "# distributed under the License is distributed on an \"AS IS\" BASIS,\n",
    "# WITHOUT WARRANTIES OR CONDITIONS OF ANY KIND, either express or implied.\n",
    "# See the License for the specific language governing permissions and\n",
    "# limitations under the License."
   ]
  }
 ],
 "metadata": {
  "kernelspec": {
   "display_name": "Python 3 [Default]",
   "language": "python",
   "name": "python3"
  },
  "language_info": {
   "codemirror_mode": {
    "name": "ipython",
    "version": 3
   },
   "file_extension": ".py",
   "mimetype": "text/x-python",
   "name": "python",
   "nbconvert_exporter": "python",
   "pygments_lexer": "ipython3",
   "version": "3.11.9"
  },
  "toc": {
   "base_numbering": 1,
   "nav_menu": {},
   "number_sections": true,
   "sideBar": true,
   "skip_h1_title": false,
   "title_cell": "Table of Contents",
   "title_sidebar": "Contents",
   "toc_cell": false,
   "toc_position": {},
   "toc_section_display": true,
   "toc_window_display": true
  }
 },
 "nbformat": 4,
 "nbformat_minor": 4
}
